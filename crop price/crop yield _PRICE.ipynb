{
 "cells": [
  {
   "cell_type": "markdown",
   "metadata": {},
   "source": [
    "# Crop yield Prediction"
   ]
  },
  {
   "cell_type": "markdown",
   "metadata": {},
   "source": [
    "### Import necessary libraries"
   ]
  },
  {
   "cell_type": "code",
   "execution_count": 1,
   "metadata": {},
   "outputs": [],
   "source": [
    "import pandas as pd\n",
    "import numpy as np\n",
    "import matplotlib.pyplot as plt\n",
    "from sklearn import metrics"
   ]
  },
  {
   "cell_type": "markdown",
   "metadata": {},
   "source": [
    "### load the dataset"
   ]
  },
  {
   "cell_type": "code",
   "execution_count": 3,
   "metadata": {},
   "outputs": [],
   "source": [
    "data = pd.read_excel('Crop_price_raw_dataset.xlsx')"
   ]
  },
  {
   "cell_type": "code",
   "execution_count": 2,
   "metadata": {},
   "outputs": [],
   "source": [
    "data1 = pd.read_excel(\"crop_csv_file_price.xlsx\")\n"
   ]
  },
  {
   "cell_type": "code",
   "execution_count": 3,
   "metadata": {},
   "outputs": [
    {
     "data": {
      "text/plain": [
       "(49999, 6)"
      ]
     },
     "execution_count": 3,
     "metadata": {},
     "output_type": "execute_result"
    }
   ],
   "source": [
    "data1.shape"
   ]
  },
  {
   "cell_type": "code",
   "execution_count": 22,
   "metadata": {},
   "outputs": [
    {
     "data": {
      "text/plain": [
       "(246091, 6)"
      ]
     },
     "execution_count": 22,
     "metadata": {},
     "output_type": "execute_result"
    }
   ],
   "source": [
    "data.shape"
   ]
  },
  {
   "cell_type": "code",
   "execution_count": 60,
   "metadata": {},
   "outputs": [],
   "source": [
    "#data=data.drop([\"Area\"],axis=1)"
   ]
  },
  {
   "cell_type": "code",
   "execution_count": 61,
   "metadata": {},
   "outputs": [
    {
     "data": {
      "text/html": [
       "<div>\n",
       "<style scoped>\n",
       "    .dataframe tbody tr th:only-of-type {\n",
       "        vertical-align: middle;\n",
       "    }\n",
       "\n",
       "    .dataframe tbody tr th {\n",
       "        vertical-align: top;\n",
       "    }\n",
       "\n",
       "    .dataframe thead th {\n",
       "        text-align: right;\n",
       "    }\n",
       "</style>\n",
       "<table border=\"1\" class=\"dataframe\">\n",
       "  <thead>\n",
       "    <tr style=\"text-align: right;\">\n",
       "      <th></th>\n",
       "      <th>State_Name</th>\n",
       "      <th>District_Name</th>\n",
       "      <th>Crop_Year</th>\n",
       "      <th>Season</th>\n",
       "      <th>Crop</th>\n",
       "      <th>Cost</th>\n",
       "    </tr>\n",
       "  </thead>\n",
       "  <tbody>\n",
       "    <tr>\n",
       "      <th>0</th>\n",
       "      <td>Andaman and Nicobar Islands</td>\n",
       "      <td>NICOBARS</td>\n",
       "      <td>2000</td>\n",
       "      <td>Kharif</td>\n",
       "      <td>Arecanut</td>\n",
       "      <td>315.836004</td>\n",
       "    </tr>\n",
       "    <tr>\n",
       "      <th>1</th>\n",
       "      <td>Andaman and Nicobar Islands</td>\n",
       "      <td>NICOBARS</td>\n",
       "      <td>2000</td>\n",
       "      <td>Kharif</td>\n",
       "      <td>Other Kharif pulses</td>\n",
       "      <td>160.746718</td>\n",
       "    </tr>\n",
       "    <tr>\n",
       "      <th>2</th>\n",
       "      <td>Andaman and Nicobar Islands</td>\n",
       "      <td>NICOBARS</td>\n",
       "      <td>2000</td>\n",
       "      <td>Kharif</td>\n",
       "      <td>Rice</td>\n",
       "      <td>136.017702</td>\n",
       "    </tr>\n",
       "    <tr>\n",
       "      <th>3</th>\n",
       "      <td>Andaman and Nicobar Islands</td>\n",
       "      <td>NICOBARS</td>\n",
       "      <td>2000</td>\n",
       "      <td>Whole Year</td>\n",
       "      <td>Banana</td>\n",
       "      <td>34.528962</td>\n",
       "    </tr>\n",
       "    <tr>\n",
       "      <th>4</th>\n",
       "      <td>Andaman and Nicobar Islands</td>\n",
       "      <td>NICOBARS</td>\n",
       "      <td>2000</td>\n",
       "      <td>Whole Year</td>\n",
       "      <td>Cashewnut</td>\n",
       "      <td>504.000000</td>\n",
       "    </tr>\n",
       "  </tbody>\n",
       "</table>\n",
       "</div>"
      ],
      "text/plain": [
       "                    State_Name District_Name  Crop_Year       Season  \\\n",
       "0  Andaman and Nicobar Islands      NICOBARS       2000  Kharif        \n",
       "1  Andaman and Nicobar Islands      NICOBARS       2000  Kharif        \n",
       "2  Andaman and Nicobar Islands      NICOBARS       2000  Kharif        \n",
       "3  Andaman and Nicobar Islands      NICOBARS       2000  Whole Year    \n",
       "4  Andaman and Nicobar Islands      NICOBARS       2000  Whole Year    \n",
       "\n",
       "                  Crop        Cost  \n",
       "0             Arecanut  315.836004  \n",
       "1  Other Kharif pulses  160.746718  \n",
       "2                 Rice  136.017702  \n",
       "3               Banana   34.528962  \n",
       "4            Cashewnut  504.000000  "
      ]
     },
     "execution_count": 61,
     "metadata": {},
     "output_type": "execute_result"
    }
   ],
   "source": [
    "data.head()"
   ]
  },
  {
   "cell_type": "code",
   "execution_count": 44,
   "metadata": {},
   "outputs": [
    {
     "data": {
      "text/plain": [
       "254.5948993337005"
      ]
     },
     "execution_count": 44,
     "metadata": {},
     "output_type": "execute_result"
    }
   ],
   "source": [
    "df1[df1[\"Crop\"]==\"Cashewnut\"][\"Cost\"].mean()"
   ]
  },
  {
   "cell_type": "code",
   "execution_count": 153,
   "metadata": {},
   "outputs": [],
   "source": [
    "df1 = data"
   ]
  },
  {
   "cell_type": "code",
   "execution_count": 154,
   "metadata": {},
   "outputs": [
    {
     "data": {
      "text/plain": [
       "Rice                 15104\n",
       "Maize                13947\n",
       "Moong(Green Gram)    10318\n",
       "Urad                  9850\n",
       "Sesamum               9046\n",
       "                     ...  \n",
       "Pear                     6\n",
       "Coffee                   6\n",
       "Peach                    4\n",
       "Apple                    4\n",
       "Other Dry Fruit          1\n",
       "Name: Crop, Length: 124, dtype: int64"
      ]
     },
     "execution_count": 154,
     "metadata": {},
     "output_type": "execute_result"
    }
   ],
   "source": [
    "df1[\"Crop\"].value_counts()"
   ]
  },
  {
   "cell_type": "code",
   "execution_count": 49,
   "metadata": {},
   "outputs": [],
   "source": [
    "crops.to_excel(\"C:\\\\Users\\\\Prameya\\\\Desktop\\\\code\\\\Another code\\\\price\\\\crop_count.xlsx\")"
   ]
  },
  {
   "cell_type": "code",
   "execution_count": 12,
   "metadata": {},
   "outputs": [
    {
     "data": {
      "text/html": [
       "<div>\n",
       "<style scoped>\n",
       "    .dataframe tbody tr th:only-of-type {\n",
       "        vertical-align: middle;\n",
       "    }\n",
       "\n",
       "    .dataframe tbody tr th {\n",
       "        vertical-align: top;\n",
       "    }\n",
       "\n",
       "    .dataframe thead th {\n",
       "        text-align: right;\n",
       "    }\n",
       "</style>\n",
       "<table border=\"1\" class=\"dataframe\">\n",
       "  <thead>\n",
       "    <tr style=\"text-align: right;\">\n",
       "      <th></th>\n",
       "      <th>State_Name</th>\n",
       "      <th>District_Name</th>\n",
       "      <th>Crop_Year</th>\n",
       "      <th>Season</th>\n",
       "      <th>Crop</th>\n",
       "      <th>price</th>\n",
       "    </tr>\n",
       "  </thead>\n",
       "  <tbody>\n",
       "    <tr>\n",
       "      <th>76865</th>\n",
       "      <td>Karnataka</td>\n",
       "      <td>BAGALKOT</td>\n",
       "      <td>1998</td>\n",
       "      <td>Kharif</td>\n",
       "      <td>Arhar/Tur</td>\n",
       "      <td>192.747086</td>\n",
       "    </tr>\n",
       "    <tr>\n",
       "      <th>76866</th>\n",
       "      <td>Karnataka</td>\n",
       "      <td>BAGALKOT</td>\n",
       "      <td>1998</td>\n",
       "      <td>Kharif</td>\n",
       "      <td>Bajra</td>\n",
       "      <td>156.973083</td>\n",
       "    </tr>\n",
       "    <tr>\n",
       "      <th>76867</th>\n",
       "      <td>Karnataka</td>\n",
       "      <td>BAGALKOT</td>\n",
       "      <td>1998</td>\n",
       "      <td>Kharif</td>\n",
       "      <td>Castor seed</td>\n",
       "      <td>84.373422</td>\n",
       "    </tr>\n",
       "    <tr>\n",
       "      <th>76868</th>\n",
       "      <td>Karnataka</td>\n",
       "      <td>BAGALKOT</td>\n",
       "      <td>1998</td>\n",
       "      <td>Kharif</td>\n",
       "      <td>Cotton(lint)</td>\n",
       "      <td>385.769312</td>\n",
       "    </tr>\n",
       "    <tr>\n",
       "      <th>76869</th>\n",
       "      <td>Karnataka</td>\n",
       "      <td>BAGALKOT</td>\n",
       "      <td>1998</td>\n",
       "      <td>Kharif</td>\n",
       "      <td>Groundnut</td>\n",
       "      <td>385.223452</td>\n",
       "    </tr>\n",
       "    <tr>\n",
       "      <th>...</th>\n",
       "      <td>...</td>\n",
       "      <td>...</td>\n",
       "      <td>...</td>\n",
       "      <td>...</td>\n",
       "      <td>...</td>\n",
       "      <td>...</td>\n",
       "    </tr>\n",
       "    <tr>\n",
       "      <th>97982</th>\n",
       "      <td>Karnataka</td>\n",
       "      <td>YADGIR</td>\n",
       "      <td>2014</td>\n",
       "      <td>Summer</td>\n",
       "      <td>Rice</td>\n",
       "      <td>110.027917</td>\n",
       "    </tr>\n",
       "    <tr>\n",
       "      <th>97983</th>\n",
       "      <td>Karnataka</td>\n",
       "      <td>YADGIR</td>\n",
       "      <td>2014</td>\n",
       "      <td>Summer</td>\n",
       "      <td>Sunflower</td>\n",
       "      <td>152.966785</td>\n",
       "    </tr>\n",
       "    <tr>\n",
       "      <th>97984</th>\n",
       "      <td>Karnataka</td>\n",
       "      <td>YADGIR</td>\n",
       "      <td>2014</td>\n",
       "      <td>Whole Year</td>\n",
       "      <td>Coconut</td>\n",
       "      <td>84.155409</td>\n",
       "    </tr>\n",
       "    <tr>\n",
       "      <th>97985</th>\n",
       "      <td>Karnataka</td>\n",
       "      <td>YADGIR</td>\n",
       "      <td>2014</td>\n",
       "      <td>Whole Year</td>\n",
       "      <td>Coriander</td>\n",
       "      <td>278.672499</td>\n",
       "    </tr>\n",
       "    <tr>\n",
       "      <th>97986</th>\n",
       "      <td>Karnataka</td>\n",
       "      <td>YADGIR</td>\n",
       "      <td>2014</td>\n",
       "      <td>Whole Year</td>\n",
       "      <td>Sugarcane</td>\n",
       "      <td>266.739238</td>\n",
       "    </tr>\n",
       "  </tbody>\n",
       "</table>\n",
       "<p>21122 rows × 6 columns</p>\n",
       "</div>"
      ],
      "text/plain": [
       "      State_Name District_Name  Crop_Year       Season          Crop  \\\n",
       "76865  Karnataka      BAGALKOT       1998  Kharif          Arhar/Tur   \n",
       "76866  Karnataka      BAGALKOT       1998  Kharif              Bajra   \n",
       "76867  Karnataka      BAGALKOT       1998  Kharif        Castor seed   \n",
       "76868  Karnataka      BAGALKOT       1998  Kharif       Cotton(lint)   \n",
       "76869  Karnataka      BAGALKOT       1998  Kharif          Groundnut   \n",
       "...          ...           ...        ...          ...           ...   \n",
       "97982  Karnataka        YADGIR       2014  Summer               Rice   \n",
       "97983  Karnataka        YADGIR       2014  Summer          Sunflower   \n",
       "97984  Karnataka        YADGIR       2014  Whole Year       Coconut    \n",
       "97985  Karnataka        YADGIR       2014  Whole Year      Coriander   \n",
       "97986  Karnataka        YADGIR       2014  Whole Year      Sugarcane   \n",
       "\n",
       "            price  \n",
       "76865  192.747086  \n",
       "76866  156.973083  \n",
       "76867   84.373422  \n",
       "76868  385.769312  \n",
       "76869  385.223452  \n",
       "...           ...  \n",
       "97982  110.027917  \n",
       "97983  152.966785  \n",
       "97984   84.155409  \n",
       "97985  278.672499  \n",
       "97986  266.739238  \n",
       "\n",
       "[21122 rows x 6 columns]"
      ]
     },
     "execution_count": 12,
     "metadata": {},
     "output_type": "execute_result"
    }
   ],
   "source": [
    "df1[df1[\"State_Name\"]==\"Karnataka\"]"
   ]
  },
  {
   "cell_type": "code",
   "execution_count": 63,
   "metadata": {},
   "outputs": [],
   "source": [
    "l1 = df1[\"Crop\"].unique()"
   ]
  },
  {
   "cell_type": "code",
   "execution_count": 67,
   "metadata": {},
   "outputs": [
    {
     "data": {
      "text/plain": [
       "array(['Arecanut', 'Other Kharif pulses', 'Rice', 'Banana', 'Cashewnut',\n",
       "       'Coconut ', 'Dry ginger', 'Sugarcane', 'Sweet potato', 'Tapioca',\n",
       "       'Black pepper', 'Dry chillies', 'other oilseeds', 'Turmeric',\n",
       "       'Maize', 'Moong(Green Gram)', 'Urad', 'Arhar/Tur', 'Groundnut',\n",
       "       'Sunflower', 'Bajra', 'Castor seed', 'Cotton(lint)', 'Horse-gram',\n",
       "       'Jowar', 'Korra', 'Ragi', 'Tobacco', 'Gram', 'Wheat', 'Masoor',\n",
       "       'Sesamum', 'Linseed', 'Safflower', 'Onion', 'other misc. pulses',\n",
       "       'Samai', 'Small millets', 'Coriander', 'Potato',\n",
       "       'Other  Rabi pulses', 'Soyabean', 'Beans & Mutter(Vegetable)',\n",
       "       'Bhindi', 'Brinjal', 'Citrus Fruit', 'Cucumber', 'Grapes', 'Mango',\n",
       "       'Orange', 'other fibres', 'Other Fresh Fruits', 'Other Vegetables',\n",
       "       'Papaya', 'Pome Fruit', 'Tomato', 'Rapeseed &Mustard', 'Mesta',\n",
       "       'Cowpea(Lobia)', 'Lemon', 'Pome Granet', 'Sapota', 'Cabbage',\n",
       "       'Peas  (vegetable)', 'Niger seed', 'Bottle Gourd', 'Sannhamp',\n",
       "       'Varagu', 'Garlic', 'Ginger', 'Oilseeds total', 'Pulses total',\n",
       "       'Jute', 'Peas & beans (Pulses)', 'Blackgram', 'Paddy', 'Pineapple',\n",
       "       'Barley', 'Khesari', 'Guar seed', 'Moth',\n",
       "       'Other Cereals & Millets', 'Cond-spcs other', 'Turnip', 'Carrot',\n",
       "       'Redish', 'Arcanut (Processed)', 'Atcanut (Raw)',\n",
       "       'Cashewnut Processed', 'Cashewnut Raw', 'Cardamom', 'Rubber',\n",
       "       'Bitter Gourd', 'Drum Stick', 'Jack Fruit', 'Snak Guard',\n",
       "       'Pump Kin', 'Tea', 'Coffee', 'Cauliflower', 'Other Citrus Fruit',\n",
       "       'Water Melon', 'Total foodgrain', 'Kapas', 'Colocosia', 'Lentil',\n",
       "       'Bean', 'Jobster', 'Perilla', 'Rajmash Kholar',\n",
       "       'Ricebean (nagadal)', 'Ash Gourd', 'Beet Root', 'Lab-Lab',\n",
       "       'Ribed Guard', 'Yam', 'Apple', 'Peach', 'Pear', 'Plums', 'Litchi',\n",
       "       'Ber', 'Other Dry Fruit', 'Jute & mesta'], dtype=object)"
      ]
     },
     "execution_count": 67,
     "metadata": {},
     "output_type": "execute_result"
    }
   ],
   "source": [
    "l1"
   ]
  },
  {
   "cell_type": "code",
   "execution_count": 184,
   "metadata": {},
   "outputs": [],
   "source": [
    "l2 =['Other Kharif pulses',\n",
    "       'other oilseeds',\n",
    "       'other misc. pulses',\n",
    "       'Samai', 'Small millets',\n",
    "       'Other  Rabi pulses', 'Citrus Fruit','other fibres', 'Other Fresh Fruits', 'Other Vegetables',\n",
    " 'Pome Fruit', 'Sannhamp',\n",
    "       'Varagu', 'Oilseeds total', 'Pulses total',\n",
    "       'Guar seed', 'Moth',\n",
    "       'Other Cereals & Millets', 'Cond-spcs other',\n",
    "     'Other Citrus Fruit','Lab-Lab',\n",
    "       'Water Melon', 'Total foodgrain', 'Kapas', 'Colocosia', 'Lentil','Apple',\n",
    "       'Jobster', 'Perilla','Ricebean (nagadal)','Yam', 'Peach', 'Plums', 'Litchi','Ber', 'Other Dry Fruit','Ginger','Paddy','Jute & mesta']"
   ]
  },
  {
   "cell_type": "code",
   "execution_count": 185,
   "metadata": {},
   "outputs": [
    {
     "data": {
      "text/plain": [
       "'Other Kharif pulses'"
      ]
     },
     "execution_count": 185,
     "metadata": {},
     "output_type": "execute_result"
    }
   ],
   "source": [
    "l2[0]"
   ]
  },
  {
   "cell_type": "code",
   "execution_count": 186,
   "metadata": {},
   "outputs": [],
   "source": [
    "for i in l2:\n",
    "    df1=df1.drop(df1.index[df1[\"Crop\"]== i].tolist())\n"
   ]
  },
  {
   "cell_type": "code",
   "execution_count": 187,
   "metadata": {},
   "outputs": [
    {
     "data": {
      "text/plain": [
       "Rice                 15104\n",
       "Maize                13947\n",
       "Moong(Green Gram)    10318\n",
       "Urad                  9850\n",
       "Sesamum               9046\n",
       "                     ...  \n",
       "Rajmash Kholar          18\n",
       "Beet Root               16\n",
       "Turnip                   8\n",
       "Pear                     6\n",
       "Coffee                   6\n",
       "Name: Crop, Length: 78, dtype: int64"
      ]
     },
     "execution_count": 187,
     "metadata": {},
     "output_type": "execute_result"
    }
   ],
   "source": [
    "df1[\"Crop\"].value_counts()"
   ]
  },
  {
   "cell_type": "code",
   "execution_count": 188,
   "metadata": {},
   "outputs": [
    {
     "data": {
      "text/plain": [
       "array(['Arecanut', 'Rice', 'Banana', 'Cashewnut', 'Coconut ',\n",
       "       'Dry ginger', 'Sugarcane', 'Sweet potato', 'Tapioca',\n",
       "       'Black pepper', 'Dry chillies', 'Turmeric', 'Maize',\n",
       "       'Moong(Green Gram)', 'Urad', 'Arhar/Tur', 'Groundnut', 'Sunflower',\n",
       "       'Bajra', 'Castor seed', 'Cotton(lint)', 'Horse-gram', 'Jowar',\n",
       "       'Korra', 'Ragi', 'Tobacco', 'Gram', 'Wheat', 'Masoor', 'Sesamum',\n",
       "       'Linseed', 'Safflower', 'Onion', 'Coriander', 'Potato', 'Soyabean',\n",
       "       'Peas & beans (Pulses)', 'Bhindi', 'Brinjal', 'Cucumber', 'Grapes',\n",
       "       'Mango', 'Orange', 'Papaya', 'Tomato', 'Rapeseed &Mustard',\n",
       "       'Mesta', 'Cowpea(Lobia)', 'Lemon', 'Pome Granet', 'Sapota',\n",
       "       'Cabbage', 'Niger seed', 'Bottle Gourd', 'Garlic', 'Jute',\n",
       "       'Blackgram', 'Pineapple', 'Barley', 'Khesari', 'Turnip', 'Carrot',\n",
       "       'Redish', 'Cardamom', 'Rubber', 'Bitter Gourd', 'Drum Stick',\n",
       "       'Jack Fruit', 'Snak Guard', 'Pump Kin', 'Tea', 'Coffee',\n",
       "       'Cauliflower', 'Rajmash Kholar', 'Ash Gourd', 'Beet Root',\n",
       "       'Ribed Guard', 'Pear'], dtype=object)"
      ]
     },
     "execution_count": 188,
     "metadata": {},
     "output_type": "execute_result"
    }
   ],
   "source": [
    "df1[\"Crop\"].unique()"
   ]
  },
  {
   "cell_type": "code",
   "execution_count": 189,
   "metadata": {},
   "outputs": [],
   "source": [
    "CR=df1.index[df1[\"Crop\"]=='Cashewnut Raw'].tolist()\n",
    "CP=df1.index[df1[\"Crop\"]=='Cashewnut Processed'].tolist()\n",
    "total_C=CR+CP\n",
    "df1.shape\n",
    "for i in total_C:\n",
    "    df1.at[i,\"Crop\"]=\"Cashewnut\""
   ]
  },
  {
   "cell_type": "code",
   "execution_count": 190,
   "metadata": {},
   "outputs": [
    {
     "data": {
      "text/plain": [
       "[]"
      ]
     },
     "execution_count": 190,
     "metadata": {},
     "output_type": "execute_result"
    }
   ],
   "source": [
    "CR"
   ]
  },
  {
   "cell_type": "code",
   "execution_count": 191,
   "metadata": {},
   "outputs": [],
   "source": [
    "AP=df1.index[df1[\"Crop\"]=='Arcanut (Processed)'].tolist()\n",
    "AR=df1.index[df1[\"Crop\"]=='Atcanut (Raw)'].tolist()\n",
    "total_A=AR+AP\n",
    "for j in total_A:\n",
    "    df1.at[j,\"Crop\"]=\"Arecanut\""
   ]
  },
  {
   "cell_type": "code",
   "execution_count": 192,
   "metadata": {},
   "outputs": [
    {
     "data": {
      "text/plain": [
       "[]"
      ]
     },
     "execution_count": 192,
     "metadata": {},
     "output_type": "execute_result"
    }
   ],
   "source": [
    "AP"
   ]
  },
  {
   "cell_type": "code",
   "execution_count": 193,
   "metadata": {},
   "outputs": [
    {
     "data": {
      "text/plain": [
       "array(['Arecanut', 'Rice', 'Banana', 'Cashewnut', 'Coconut ',\n",
       "       'Dry ginger', 'Sugarcane', 'Sweet potato', 'Tapioca',\n",
       "       'Black pepper', 'Dry chillies', 'Turmeric', 'Maize',\n",
       "       'Moong(Green Gram)', 'Urad', 'Arhar/Tur', 'Groundnut', 'Sunflower',\n",
       "       'Bajra', 'Castor seed', 'Cotton(lint)', 'Horse-gram', 'Jowar',\n",
       "       'Korra', 'Ragi', 'Tobacco', 'Gram', 'Wheat', 'Masoor', 'Sesamum',\n",
       "       'Linseed', 'Safflower', 'Onion', 'Coriander', 'Potato', 'Soyabean',\n",
       "       'Peas & beans (Pulses)', 'Bhindi', 'Brinjal', 'Cucumber', 'Grapes',\n",
       "       'Mango', 'Orange', 'Papaya', 'Tomato', 'Rapeseed &Mustard',\n",
       "       'Mesta', 'Cowpea(Lobia)', 'Lemon', 'Pome Granet', 'Sapota',\n",
       "       'Cabbage', 'Niger seed', 'Bottle Gourd', 'Garlic', 'Jute',\n",
       "       'Blackgram', 'Pineapple', 'Barley', 'Khesari', 'Turnip', 'Carrot',\n",
       "       'Redish', 'Cardamom', 'Rubber', 'Bitter Gourd', 'Drum Stick',\n",
       "       'Jack Fruit', 'Snak Guard', 'Pump Kin', 'Tea', 'Coffee',\n",
       "       'Cauliflower', 'Rajmash Kholar', 'Ash Gourd', 'Beet Root',\n",
       "       'Ribed Guard', 'Pear'], dtype=object)"
      ]
     },
     "execution_count": 193,
     "metadata": {},
     "output_type": "execute_result"
    }
   ],
   "source": [
    "df1[\"Crop\"].unique()"
   ]
  },
  {
   "cell_type": "code",
   "execution_count": 194,
   "metadata": {},
   "outputs": [],
   "source": [
    "PB=df1.index[df1[\"Crop\"]=='Peas & beans (Pulses)'].tolist()\n",
    "BM=df1.index[df1[\"Crop\"]=='Beans & Mutter(Vegetable)'].tolist()\n",
    "B =df1.index[df1[\"Crop\"]=='Bean'].tolist()\n",
    "P =df1.index[df1[\"Crop\"]=='Peas  (vegetable)'].tolist()\n",
    "total_p=PB+BM+B+P\n",
    "for j in total_p:\n",
    "    df1.at[j,\"Crop\"]=\"Peas & beans (Pulses)\""
   ]
  },
  {
   "cell_type": "code",
   "execution_count": 195,
   "metadata": {},
   "outputs": [
    {
     "data": {
      "text/plain": [
       "array(['Arecanut', 'Rice', 'Banana', 'Cashewnut', 'Coconut ',\n",
       "       'Dry ginger', 'Sugarcane', 'Sweet potato', 'Tapioca',\n",
       "       'Black pepper', 'Dry chillies', 'Turmeric', 'Maize',\n",
       "       'Moong(Green Gram)', 'Urad', 'Arhar/Tur', 'Groundnut', 'Sunflower',\n",
       "       'Bajra', 'Castor seed', 'Cotton(lint)', 'Horse-gram', 'Jowar',\n",
       "       'Korra', 'Ragi', 'Tobacco', 'Gram', 'Wheat', 'Masoor', 'Sesamum',\n",
       "       'Linseed', 'Safflower', 'Onion', 'Coriander', 'Potato', 'Soyabean',\n",
       "       'Peas & beans (Pulses)', 'Bhindi', 'Brinjal', 'Cucumber', 'Grapes',\n",
       "       'Mango', 'Orange', 'Papaya', 'Tomato', 'Rapeseed &Mustard',\n",
       "       'Mesta', 'Cowpea(Lobia)', 'Lemon', 'Pome Granet', 'Sapota',\n",
       "       'Cabbage', 'Niger seed', 'Bottle Gourd', 'Garlic', 'Jute',\n",
       "       'Blackgram', 'Pineapple', 'Barley', 'Khesari', 'Turnip', 'Carrot',\n",
       "       'Redish', 'Cardamom', 'Rubber', 'Bitter Gourd', 'Drum Stick',\n",
       "       'Jack Fruit', 'Snak Guard', 'Pump Kin', 'Tea', 'Coffee',\n",
       "       'Cauliflower', 'Rajmash Kholar', 'Ash Gourd', 'Beet Root',\n",
       "       'Ribed Guard', 'Pear'], dtype=object)"
      ]
     },
     "execution_count": 195,
     "metadata": {},
     "output_type": "execute_result"
    }
   ],
   "source": [
    "df1[\"Crop\"].unique()"
   ]
  },
  {
   "cell_type": "code",
   "execution_count": 196,
   "metadata": {},
   "outputs": [],
   "source": [
    "duplicate = df1.index[df1.duplicated()].tolist()\n",
    "df1=df1.drop(duplicate)"
   ]
  },
  {
   "cell_type": "code",
   "execution_count": 197,
   "metadata": {},
   "outputs": [
    {
     "data": {
      "text/plain": [
       "(225167, 6)"
      ]
     },
     "execution_count": 197,
     "metadata": {},
     "output_type": "execute_result"
    }
   ],
   "source": [
    "df1.shape"
   ]
  },
  {
   "cell_type": "code",
   "execution_count": 198,
   "metadata": {},
   "outputs": [],
   "source": [
    "df2 =df1[df1[\"Crop_Year\"]>2000]"
   ]
  },
  {
   "cell_type": "code",
   "execution_count": 199,
   "metadata": {},
   "outputs": [
    {
     "data": {
      "text/plain": [
       "Rice                 12054\n",
       "Maize                11173\n",
       "Moong(Green Gram)     8517\n",
       "Urad                  8091\n",
       "Sesamum               7213\n",
       "                     ...  \n",
       "Rajmash Kholar          18\n",
       "Beet Root               16\n",
       "Turnip                   8\n",
       "Pear                     6\n",
       "Coffee                   6\n",
       "Name: Crop, Length: 78, dtype: int64"
      ]
     },
     "execution_count": 199,
     "metadata": {},
     "output_type": "execute_result"
    }
   ],
   "source": [
    "df2[\"Crop\"].value_counts()"
   ]
  },
  {
   "cell_type": "code",
   "execution_count": 200,
   "metadata": {},
   "outputs": [
    {
     "data": {
      "text/plain": [
       "array(['Arecanut', 'Rice', 'Cashewnut', 'Coconut ', 'Dry ginger',\n",
       "       'Sugarcane', 'Sweet potato', 'Banana', 'Black pepper',\n",
       "       'Dry chillies', 'Turmeric', 'Tapioca', 'Maize',\n",
       "       'Moong(Green Gram)', 'Urad', 'Arhar/Tur', 'Groundnut', 'Sunflower',\n",
       "       'Bajra', 'Castor seed', 'Cotton(lint)', 'Gram', 'Horse-gram',\n",
       "       'Jowar', 'Korra', 'Onion', 'Ragi', 'Linseed', 'Safflower',\n",
       "       'Sesamum', 'Wheat', 'Coriander', 'Tobacco', 'Soyabean',\n",
       "       'Peas & beans (Pulses)', 'Bhindi', 'Brinjal', 'Cucumber', 'Grapes',\n",
       "       'Mango', 'Orange', 'Papaya', 'Potato', 'Tomato',\n",
       "       'Rapeseed &Mustard', 'Mesta', 'Cowpea(Lobia)', 'Lemon',\n",
       "       'Pome Granet', 'Sapota', 'Cabbage', 'Niger seed', 'Bottle Gourd',\n",
       "       'Garlic', 'Jute', 'Masoor', 'Blackgram', 'Pineapple', 'Barley',\n",
       "       'Khesari', 'Turnip', 'Carrot', 'Redish', 'Cardamom', 'Rubber',\n",
       "       'Bitter Gourd', 'Drum Stick', 'Jack Fruit', 'Snak Guard',\n",
       "       'Pump Kin', 'Tea', 'Coffee', 'Cauliflower', 'Rajmash Kholar',\n",
       "       'Ash Gourd', 'Beet Root', 'Ribed Guard', 'Pear'], dtype=object)"
      ]
     },
     "execution_count": 200,
     "metadata": {},
     "output_type": "execute_result"
    }
   ],
   "source": [
    "df2[\"Crop\"].unique()"
   ]
  },
  {
   "cell_type": "code",
   "execution_count": 201,
   "metadata": {},
   "outputs": [
    {
     "data": {
      "text/plain": [
       "(182576, 6)"
      ]
     },
     "execution_count": 201,
     "metadata": {},
     "output_type": "execute_result"
    }
   ],
   "source": [
    "df2.shape"
   ]
  },
  {
   "cell_type": "code",
   "execution_count": 202,
   "metadata": {},
   "outputs": [],
   "source": [
    "df2.to_excel(\"C:\\\\Users\\\\Prameya\\\\Desktop\\\\code\\\\Another code\\\\price\\\\price_dataset2.xlsx\")"
   ]
  },
  {
   "cell_type": "code",
   "execution_count": 4,
   "metadata": {},
   "outputs": [],
   "source": [
    "df3 = pd.read_excel(\"C:\\\\Users\\\\Prameya\\\\Desktop\\\\code\\\\Another code\\\\price\\\\price_dataset2.xlsx\")"
   ]
  },
  {
   "cell_type": "code",
   "execution_count": 5,
   "metadata": {},
   "outputs": [
    {
     "data": {
      "text/html": [
       "<div>\n",
       "<style scoped>\n",
       "    .dataframe tbody tr th:only-of-type {\n",
       "        vertical-align: middle;\n",
       "    }\n",
       "\n",
       "    .dataframe tbody tr th {\n",
       "        vertical-align: top;\n",
       "    }\n",
       "\n",
       "    .dataframe thead th {\n",
       "        text-align: right;\n",
       "    }\n",
       "</style>\n",
       "<table border=\"1\" class=\"dataframe\">\n",
       "  <thead>\n",
       "    <tr style=\"text-align: right;\">\n",
       "      <th></th>\n",
       "      <th>Unnamed: 0</th>\n",
       "      <th>State_Name</th>\n",
       "      <th>District_Name</th>\n",
       "      <th>Crop_Year</th>\n",
       "      <th>Season</th>\n",
       "      <th>Crop</th>\n",
       "      <th>Cost</th>\n",
       "      <th>Cost_alter</th>\n",
       "    </tr>\n",
       "  </thead>\n",
       "  <tbody>\n",
       "    <tr>\n",
       "      <th>0</th>\n",
       "      <td>10</td>\n",
       "      <td>Andaman and Nicobar Islands</td>\n",
       "      <td>NICOBARS</td>\n",
       "      <td>2001</td>\n",
       "      <td>Kharif</td>\n",
       "      <td>Arecanut</td>\n",
       "      <td>335.666406</td>\n",
       "      <td>410.148666</td>\n",
       "    </tr>\n",
       "    <tr>\n",
       "      <th>1</th>\n",
       "      <td>12</td>\n",
       "      <td>Andaman and Nicobar Islands</td>\n",
       "      <td>NICOBARS</td>\n",
       "      <td>2001</td>\n",
       "      <td>Kharif</td>\n",
       "      <td>Rice</td>\n",
       "      <td>134.118240</td>\n",
       "      <td>111.981387</td>\n",
       "    </tr>\n",
       "    <tr>\n",
       "      <th>2</th>\n",
       "      <td>13</td>\n",
       "      <td>Andaman and Nicobar Islands</td>\n",
       "      <td>NICOBARS</td>\n",
       "      <td>2001</td>\n",
       "      <td>Whole Year</td>\n",
       "      <td>Cashewnut</td>\n",
       "      <td>504.000000</td>\n",
       "      <td>896.714638</td>\n",
       "    </tr>\n",
       "    <tr>\n",
       "      <th>3</th>\n",
       "      <td>14</td>\n",
       "      <td>Andaman and Nicobar Islands</td>\n",
       "      <td>NICOBARS</td>\n",
       "      <td>2001</td>\n",
       "      <td>Whole Year</td>\n",
       "      <td>Coconut</td>\n",
       "      <td>202.000000</td>\n",
       "      <td>41.177407</td>\n",
       "    </tr>\n",
       "    <tr>\n",
       "      <th>4</th>\n",
       "      <td>15</td>\n",
       "      <td>Andaman and Nicobar Islands</td>\n",
       "      <td>NICOBARS</td>\n",
       "      <td>2001</td>\n",
       "      <td>Whole Year</td>\n",
       "      <td>Dry ginger</td>\n",
       "      <td>144.000000</td>\n",
       "      <td>66.228826</td>\n",
       "    </tr>\n",
       "    <tr>\n",
       "      <th>...</th>\n",
       "      <td>...</td>\n",
       "      <td>...</td>\n",
       "      <td>...</td>\n",
       "      <td>...</td>\n",
       "      <td>...</td>\n",
       "      <td>...</td>\n",
       "      <td>...</td>\n",
       "      <td>...</td>\n",
       "    </tr>\n",
       "    <tr>\n",
       "      <th>182571</th>\n",
       "      <td>246086</td>\n",
       "      <td>West Bengal</td>\n",
       "      <td>PURULIA</td>\n",
       "      <td>2014</td>\n",
       "      <td>Summer</td>\n",
       "      <td>Rice</td>\n",
       "      <td>338.161928</td>\n",
       "      <td>59.273870</td>\n",
       "    </tr>\n",
       "    <tr>\n",
       "      <th>182572</th>\n",
       "      <td>246087</td>\n",
       "      <td>West Bengal</td>\n",
       "      <td>PURULIA</td>\n",
       "      <td>2014</td>\n",
       "      <td>Summer</td>\n",
       "      <td>Sesamum</td>\n",
       "      <td>81.665134</td>\n",
       "      <td>83.769433</td>\n",
       "    </tr>\n",
       "    <tr>\n",
       "      <th>182573</th>\n",
       "      <td>246088</td>\n",
       "      <td>West Bengal</td>\n",
       "      <td>PURULIA</td>\n",
       "      <td>2014</td>\n",
       "      <td>Whole Year</td>\n",
       "      <td>Sugarcane</td>\n",
       "      <td>31.910006</td>\n",
       "      <td>NaN</td>\n",
       "    </tr>\n",
       "    <tr>\n",
       "      <th>182574</th>\n",
       "      <td>246089</td>\n",
       "      <td>West Bengal</td>\n",
       "      <td>PURULIA</td>\n",
       "      <td>2014</td>\n",
       "      <td>Winter</td>\n",
       "      <td>Rice</td>\n",
       "      <td>24.681879</td>\n",
       "      <td>59.043129</td>\n",
       "    </tr>\n",
       "    <tr>\n",
       "      <th>182575</th>\n",
       "      <td>246090</td>\n",
       "      <td>West Bengal</td>\n",
       "      <td>PURULIA</td>\n",
       "      <td>2014</td>\n",
       "      <td>Winter</td>\n",
       "      <td>Sesamum</td>\n",
       "      <td>177.801958</td>\n",
       "      <td>NaN</td>\n",
       "    </tr>\n",
       "  </tbody>\n",
       "</table>\n",
       "<p>182576 rows × 8 columns</p>\n",
       "</div>"
      ],
      "text/plain": [
       "        Unnamed: 0                   State_Name District_Name  Crop_Year  \\\n",
       "0               10  Andaman and Nicobar Islands      NICOBARS       2001   \n",
       "1               12  Andaman and Nicobar Islands      NICOBARS       2001   \n",
       "2               13  Andaman and Nicobar Islands      NICOBARS       2001   \n",
       "3               14  Andaman and Nicobar Islands      NICOBARS       2001   \n",
       "4               15  Andaman and Nicobar Islands      NICOBARS       2001   \n",
       "...            ...                          ...           ...        ...   \n",
       "182571      246086                  West Bengal       PURULIA       2014   \n",
       "182572      246087                  West Bengal       PURULIA       2014   \n",
       "182573      246088                  West Bengal       PURULIA       2014   \n",
       "182574      246089                  West Bengal       PURULIA       2014   \n",
       "182575      246090                  West Bengal       PURULIA       2014   \n",
       "\n",
       "             Season        Crop        Cost  Cost_alter  \n",
       "0       Kharif         Arecanut  335.666406  410.148666  \n",
       "1       Kharif             Rice  134.118240  111.981387  \n",
       "2       Whole Year    Cashewnut  504.000000  896.714638  \n",
       "3       Whole Year     Coconut   202.000000   41.177407  \n",
       "4       Whole Year   Dry ginger  144.000000   66.228826  \n",
       "...             ...         ...         ...         ...  \n",
       "182571  Summer             Rice  338.161928   59.273870  \n",
       "182572  Summer          Sesamum   81.665134   83.769433  \n",
       "182573  Whole Year    Sugarcane   31.910006         NaN  \n",
       "182574  Winter             Rice   24.681879   59.043129  \n",
       "182575  Winter          Sesamum  177.801958         NaN  \n",
       "\n",
       "[182576 rows x 8 columns]"
      ]
     },
     "execution_count": 5,
     "metadata": {},
     "output_type": "execute_result"
    }
   ],
   "source": [
    "df3\n"
   ]
  },
  {
   "cell_type": "code",
   "execution_count": 6,
   "metadata": {},
   "outputs": [
    {
     "data": {
      "text/plain": [
       "Unnamed: 0           0\n",
       "State_Name           0\n",
       "District_Name        0\n",
       "Crop_Year            0\n",
       "Season               0\n",
       "Crop                 0\n",
       "Cost                 1\n",
       "Cost_alter       15697\n",
       "dtype: int64"
      ]
     },
     "execution_count": 6,
     "metadata": {},
     "output_type": "execute_result"
    }
   ],
   "source": [
    "df3.isnull().sum()"
   ]
  },
  {
   "cell_type": "code",
   "execution_count": 7,
   "metadata": {},
   "outputs": [],
   "source": [
    "df3=df3.dropna()"
   ]
  },
  {
   "cell_type": "code",
   "execution_count": 8,
   "metadata": {},
   "outputs": [],
   "source": [
    "df3=df3.drop([\"Unnamed: 0\"], axis =1)"
   ]
  },
  {
   "cell_type": "code",
   "execution_count": 9,
   "metadata": {},
   "outputs": [
    {
     "data": {
      "text/html": [
       "<div>\n",
       "<style scoped>\n",
       "    .dataframe tbody tr th:only-of-type {\n",
       "        vertical-align: middle;\n",
       "    }\n",
       "\n",
       "    .dataframe tbody tr th {\n",
       "        vertical-align: top;\n",
       "    }\n",
       "\n",
       "    .dataframe thead th {\n",
       "        text-align: right;\n",
       "    }\n",
       "</style>\n",
       "<table border=\"1\" class=\"dataframe\">\n",
       "  <thead>\n",
       "    <tr style=\"text-align: right;\">\n",
       "      <th></th>\n",
       "      <th>State_Name</th>\n",
       "      <th>District_Name</th>\n",
       "      <th>Crop_Year</th>\n",
       "      <th>Season</th>\n",
       "      <th>Crop</th>\n",
       "      <th>Cost</th>\n",
       "      <th>Cost_alter</th>\n",
       "    </tr>\n",
       "  </thead>\n",
       "  <tbody>\n",
       "    <tr>\n",
       "      <th>0</th>\n",
       "      <td>Andaman and Nicobar Islands</td>\n",
       "      <td>NICOBARS</td>\n",
       "      <td>2001</td>\n",
       "      <td>Kharif</td>\n",
       "      <td>Arecanut</td>\n",
       "      <td>335.666406</td>\n",
       "      <td>410.148666</td>\n",
       "    </tr>\n",
       "    <tr>\n",
       "      <th>1</th>\n",
       "      <td>Andaman and Nicobar Islands</td>\n",
       "      <td>NICOBARS</td>\n",
       "      <td>2001</td>\n",
       "      <td>Kharif</td>\n",
       "      <td>Rice</td>\n",
       "      <td>134.118240</td>\n",
       "      <td>111.981387</td>\n",
       "    </tr>\n",
       "    <tr>\n",
       "      <th>2</th>\n",
       "      <td>Andaman and Nicobar Islands</td>\n",
       "      <td>NICOBARS</td>\n",
       "      <td>2001</td>\n",
       "      <td>Whole Year</td>\n",
       "      <td>Cashewnut</td>\n",
       "      <td>504.000000</td>\n",
       "      <td>896.714638</td>\n",
       "    </tr>\n",
       "    <tr>\n",
       "      <th>3</th>\n",
       "      <td>Andaman and Nicobar Islands</td>\n",
       "      <td>NICOBARS</td>\n",
       "      <td>2001</td>\n",
       "      <td>Whole Year</td>\n",
       "      <td>Coconut</td>\n",
       "      <td>202.000000</td>\n",
       "      <td>41.177407</td>\n",
       "    </tr>\n",
       "    <tr>\n",
       "      <th>4</th>\n",
       "      <td>Andaman and Nicobar Islands</td>\n",
       "      <td>NICOBARS</td>\n",
       "      <td>2001</td>\n",
       "      <td>Whole Year</td>\n",
       "      <td>Dry ginger</td>\n",
       "      <td>144.000000</td>\n",
       "      <td>66.228826</td>\n",
       "    </tr>\n",
       "    <tr>\n",
       "      <th>...</th>\n",
       "      <td>...</td>\n",
       "      <td>...</td>\n",
       "      <td>...</td>\n",
       "      <td>...</td>\n",
       "      <td>...</td>\n",
       "      <td>...</td>\n",
       "      <td>...</td>\n",
       "    </tr>\n",
       "    <tr>\n",
       "      <th>182569</th>\n",
       "      <td>West Bengal</td>\n",
       "      <td>PURULIA</td>\n",
       "      <td>2014</td>\n",
       "      <td>Rabi</td>\n",
       "      <td>Wheat</td>\n",
       "      <td>54.634348</td>\n",
       "      <td>35.472353</td>\n",
       "    </tr>\n",
       "    <tr>\n",
       "      <th>182570</th>\n",
       "      <td>West Bengal</td>\n",
       "      <td>PURULIA</td>\n",
       "      <td>2014</td>\n",
       "      <td>Summer</td>\n",
       "      <td>Maize</td>\n",
       "      <td>277.480986</td>\n",
       "      <td>28.930219</td>\n",
       "    </tr>\n",
       "    <tr>\n",
       "      <th>182571</th>\n",
       "      <td>West Bengal</td>\n",
       "      <td>PURULIA</td>\n",
       "      <td>2014</td>\n",
       "      <td>Summer</td>\n",
       "      <td>Rice</td>\n",
       "      <td>338.161928</td>\n",
       "      <td>59.273870</td>\n",
       "    </tr>\n",
       "    <tr>\n",
       "      <th>182572</th>\n",
       "      <td>West Bengal</td>\n",
       "      <td>PURULIA</td>\n",
       "      <td>2014</td>\n",
       "      <td>Summer</td>\n",
       "      <td>Sesamum</td>\n",
       "      <td>81.665134</td>\n",
       "      <td>83.769433</td>\n",
       "    </tr>\n",
       "    <tr>\n",
       "      <th>182574</th>\n",
       "      <td>West Bengal</td>\n",
       "      <td>PURULIA</td>\n",
       "      <td>2014</td>\n",
       "      <td>Winter</td>\n",
       "      <td>Rice</td>\n",
       "      <td>24.681879</td>\n",
       "      <td>59.043129</td>\n",
       "    </tr>\n",
       "  </tbody>\n",
       "</table>\n",
       "<p>166878 rows × 7 columns</p>\n",
       "</div>"
      ],
      "text/plain": [
       "                         State_Name District_Name  Crop_Year       Season  \\\n",
       "0       Andaman and Nicobar Islands      NICOBARS       2001  Kharif        \n",
       "1       Andaman and Nicobar Islands      NICOBARS       2001  Kharif        \n",
       "2       Andaman and Nicobar Islands      NICOBARS       2001  Whole Year    \n",
       "3       Andaman and Nicobar Islands      NICOBARS       2001  Whole Year    \n",
       "4       Andaman and Nicobar Islands      NICOBARS       2001  Whole Year    \n",
       "...                             ...           ...        ...          ...   \n",
       "182569                  West Bengal       PURULIA       2014  Rabi          \n",
       "182570                  West Bengal       PURULIA       2014  Summer        \n",
       "182571                  West Bengal       PURULIA       2014  Summer        \n",
       "182572                  West Bengal       PURULIA       2014  Summer        \n",
       "182574                  West Bengal       PURULIA       2014  Winter        \n",
       "\n",
       "              Crop        Cost  Cost_alter  \n",
       "0         Arecanut  335.666406  410.148666  \n",
       "1             Rice  134.118240  111.981387  \n",
       "2        Cashewnut  504.000000  896.714638  \n",
       "3         Coconut   202.000000   41.177407  \n",
       "4       Dry ginger  144.000000   66.228826  \n",
       "...            ...         ...         ...  \n",
       "182569       Wheat   54.634348   35.472353  \n",
       "182570       Maize  277.480986   28.930219  \n",
       "182571        Rice  338.161928   59.273870  \n",
       "182572     Sesamum   81.665134   83.769433  \n",
       "182574        Rice   24.681879   59.043129  \n",
       "\n",
       "[166878 rows x 7 columns]"
      ]
     },
     "execution_count": 9,
     "metadata": {},
     "output_type": "execute_result"
    }
   ],
   "source": [
    "df3"
   ]
  },
  {
   "cell_type": "code",
   "execution_count": 10,
   "metadata": {},
   "outputs": [
    {
     "ename": "NameError",
     "evalue": "name 'data' is not defined",
     "output_type": "error",
     "traceback": [
      "\u001b[1;31m---------------------------------------------------------------------------\u001b[0m",
      "\u001b[1;31mNameError\u001b[0m                                 Traceback (most recent call last)",
      "\u001b[1;32m<ipython-input-10-65021dad4947>\u001b[0m in \u001b[0;36m<module>\u001b[1;34m\u001b[0m\n\u001b[1;32m----> 1\u001b[1;33m \u001b[0mdata\u001b[0m\u001b[1;33m.\u001b[0m\u001b[0mhead\u001b[0m\u001b[1;33m(\u001b[0m\u001b[1;33m)\u001b[0m\u001b[1;33m\u001b[0m\u001b[1;33m\u001b[0m\u001b[0m\n\u001b[0m\u001b[0;32m      2\u001b[0m \u001b[1;31m##data = data[:500]\u001b[0m\u001b[1;33m\u001b[0m\u001b[1;33m\u001b[0m\u001b[1;33m\u001b[0m\u001b[0m\n",
      "\u001b[1;31mNameError\u001b[0m: name 'data' is not defined"
     ]
    }
   ],
   "source": [
    "data.head()\n",
    "##data = data[:500]"
   ]
  },
  {
   "cell_type": "code",
   "execution_count": null,
   "metadata": {},
   "outputs": [],
   "source": []
  },
  {
   "cell_type": "code",
   "execution_count": 11,
   "metadata": {},
   "outputs": [
    {
     "data": {
      "text/plain": [
       "(166878, 7)"
      ]
     },
     "execution_count": 11,
     "metadata": {},
     "output_type": "execute_result"
    }
   ],
   "source": [
    "df3.shape"
   ]
  },
  {
   "cell_type": "code",
   "execution_count": 12,
   "metadata": {},
   "outputs": [
    {
     "data": {
      "text/plain": [
       "array(['Arecanut', 'Rice', 'Cashewnut', 'Coconut ', 'Dry ginger',\n",
       "       'Sweet potato', 'Banana', 'Black pepper', 'Dry chillies',\n",
       "       'Turmeric', 'Maize', 'Moong(Green Gram)', 'Urad', 'Arhar/Tur',\n",
       "       'Groundnut', 'Bajra', 'Castor seed', 'Cotton(lint)', 'Gram',\n",
       "       'Horse-gram', 'Jowar', 'Onion', 'Ragi', 'Linseed', 'Safflower',\n",
       "       'Sesamum', 'Wheat', 'Coriander', 'Tobacco', 'Soyabean',\n",
       "       'Peas & beans (Pulses)', 'Bhindi', 'Brinjal', 'Cucumber', 'Grapes',\n",
       "       'Mango', 'Orange', 'Papaya', 'Potato', 'Tomato',\n",
       "       'Rapeseed &Mustard', 'Cowpea(Lobia)', 'Lemon', 'Cabbage',\n",
       "       'Niger seed', 'Bottle Gourd', 'Garlic', 'Jute', 'Masoor',\n",
       "       'Blackgram', 'Barley', 'Carrot', 'Cardamom', 'Tea', 'Cauliflower'],\n",
       "      dtype=object)"
      ]
     },
     "execution_count": 12,
     "metadata": {},
     "output_type": "execute_result"
    }
   ],
   "source": [
    "df3[\"Crop\"].unique()"
   ]
  },
  {
   "cell_type": "code",
   "execution_count": 13,
   "metadata": {},
   "outputs": [
    {
     "data": {
      "text/plain": [
       "array(['Andaman and Nicobar Islands', 'Andhra Pradesh',\n",
       "       'Arunachal Pradesh', 'Assam', 'Bihar', 'Chandigarh',\n",
       "       'Chhattisgarh', 'Dadra and Nagar Haveli', 'Goa', 'Gujarat',\n",
       "       'Haryana', 'Himachal Pradesh', 'Jammu and Kashmir ', 'Jharkhand',\n",
       "       'Karnataka', 'Kerala', 'Madhya Pradesh', 'Maharashtra', 'Manipur',\n",
       "       'Meghalaya', 'Mizoram', 'Nagaland', 'Odisha', 'Puducherry',\n",
       "       'Punjab', 'Rajasthan', 'Sikkim', 'Tamil Nadu', 'Telangana ',\n",
       "       'Tripura', 'Uttar Pradesh', 'Uttarakhand', 'West Bengal'],\n",
       "      dtype=object)"
      ]
     },
     "execution_count": 13,
     "metadata": {},
     "output_type": "execute_result"
    }
   ],
   "source": [
    "df3[\"State_Name\"].unique()"
   ]
  },
  {
   "cell_type": "markdown",
   "metadata": {},
   "source": [
    "### Data Exploration"
   ]
  },
  {
   "cell_type": "code",
   "execution_count": 14,
   "metadata": {},
   "outputs": [
    {
     "ename": "NameError",
     "evalue": "name 'data' is not defined",
     "output_type": "error",
     "traceback": [
      "\u001b[1;31m---------------------------------------------------------------------------\u001b[0m",
      "\u001b[1;31mNameError\u001b[0m                                 Traceback (most recent call last)",
      "\u001b[1;32m<ipython-input-14-6208d269f320>\u001b[0m in \u001b[0;36m<module>\u001b[1;34m\u001b[0m\n\u001b[1;32m----> 1\u001b[1;33m \u001b[0mdata\u001b[0m\u001b[1;33m.\u001b[0m\u001b[0minfo\u001b[0m\u001b[1;33m(\u001b[0m\u001b[1;33m)\u001b[0m\u001b[1;33m\u001b[0m\u001b[1;33m\u001b[0m\u001b[0m\n\u001b[0m",
      "\u001b[1;31mNameError\u001b[0m: name 'data' is not defined"
     ]
    }
   ],
   "source": [
    "data.info()"
   ]
  },
  {
   "cell_type": "code",
   "execution_count": 13,
   "metadata": {},
   "outputs": [
    {
     "ename": "NameError",
     "evalue": "name 'data' is not defined",
     "output_type": "error",
     "traceback": [
      "\u001b[1;31m---------------------------------------------------------------------------\u001b[0m",
      "\u001b[1;31mNameError\u001b[0m                                 Traceback (most recent call last)",
      "\u001b[1;32m<ipython-input-13-0c09bcd06613>\u001b[0m in \u001b[0;36m<module>\u001b[1;34m\u001b[0m\n\u001b[0;32m      1\u001b[0m \u001b[1;31m#handling missing data\u001b[0m\u001b[1;33m\u001b[0m\u001b[1;33m\u001b[0m\u001b[1;33m\u001b[0m\u001b[0m\n\u001b[1;32m----> 2\u001b[1;33m \u001b[0mdata\u001b[0m \u001b[1;33m=\u001b[0m \u001b[0mdata\u001b[0m\u001b[1;33m.\u001b[0m\u001b[0mdropna\u001b[0m\u001b[1;33m(\u001b[0m\u001b[1;33m)\u001b[0m\u001b[1;33m\u001b[0m\u001b[1;33m\u001b[0m\u001b[0m\n\u001b[0m\u001b[0;32m      3\u001b[0m \u001b[0mdata\u001b[0m\u001b[1;33m.\u001b[0m\u001b[0minfo\u001b[0m\u001b[1;33m(\u001b[0m\u001b[1;33m)\u001b[0m\u001b[1;33m\u001b[0m\u001b[1;33m\u001b[0m\u001b[0m\n",
      "\u001b[1;31mNameError\u001b[0m: name 'data' is not defined"
     ]
    }
   ],
   "source": [
    "#handling missing data\n",
    "data = data.dropna()\n",
    "data.info()"
   ]
  },
  {
   "cell_type": "code",
   "execution_count": 15,
   "metadata": {},
   "outputs": [
    {
     "ename": "NameError",
     "evalue": "name 'data' is not defined",
     "output_type": "error",
     "traceback": [
      "\u001b[1;31m---------------------------------------------------------------------------\u001b[0m",
      "\u001b[1;31mNameError\u001b[0m                                 Traceback (most recent call last)",
      "\u001b[1;32m<ipython-input-15-2bb0b18689d4>\u001b[0m in \u001b[0;36m<module>\u001b[1;34m\u001b[0m\n\u001b[1;32m----> 1\u001b[1;33m \u001b[0mdata\u001b[0m\u001b[1;33m.\u001b[0m\u001b[0mdescribe\u001b[0m\u001b[1;33m(\u001b[0m\u001b[1;33m)\u001b[0m\u001b[1;33m\u001b[0m\u001b[1;33m\u001b[0m\u001b[0m\n\u001b[0m",
      "\u001b[1;31mNameError\u001b[0m: name 'data' is not defined"
     ]
    }
   ],
   "source": [
    "data.describe()"
   ]
  },
  {
   "cell_type": "code",
   "execution_count": 16,
   "metadata": {},
   "outputs": [
    {
     "data": {
      "text/plain": [
       "array(['Kharif     ', 'Whole Year ', 'Autumn     ', 'Rabi       ',\n",
       "       'Summer     ', 'Winter     '], dtype=object)"
      ]
     },
     "execution_count": 16,
     "metadata": {},
     "output_type": "execute_result"
    }
   ],
   "source": [
    "df3[\"Season\"].unique()"
   ]
  },
  {
   "cell_type": "code",
   "execution_count": 17,
   "metadata": {},
   "outputs": [
    {
     "data": {
      "text/plain": [
       "array(['Andaman and Nicobar Islands', 'Andhra Pradesh',\n",
       "       'Arunachal Pradesh', 'Assam', 'Bihar', 'Chandigarh',\n",
       "       'Chhattisgarh', 'Dadra and Nagar Haveli', 'Goa', 'Gujarat',\n",
       "       'Haryana', 'Himachal Pradesh', 'Jammu and Kashmir ', 'Jharkhand',\n",
       "       'Karnataka', 'Kerala', 'Madhya Pradesh', 'Maharashtra', 'Manipur',\n",
       "       'Meghalaya', 'Mizoram', 'Nagaland', 'Odisha', 'Puducherry',\n",
       "       'Punjab', 'Rajasthan', 'Sikkim', 'Tamil Nadu', 'Telangana ',\n",
       "       'Tripura', 'Uttar Pradesh', 'Uttarakhand', 'West Bengal'],\n",
       "      dtype=object)"
      ]
     },
     "execution_count": 17,
     "metadata": {},
     "output_type": "execute_result"
    }
   ],
   "source": [
    "df3[\"State_Name\"].unique()"
   ]
  },
  {
   "cell_type": "code",
   "execution_count": 18,
   "metadata": {},
   "outputs": [
    {
     "data": {
      "text/plain": [
       "array(['NICOBARS', 'NORTH AND MIDDLE ANDAMAN', 'SOUTH ANDAMANS',\n",
       "       'ANANTAPUR', 'CHITTOOR', 'EAST GODAVARI', 'GUNTUR', 'KADAPA',\n",
       "       'KRISHNA', 'KURNOOL', 'PRAKASAM', 'SPSR NELLORE', 'SRIKAKULAM',\n",
       "       'VISAKHAPATANAM', 'VIZIANAGARAM', 'WEST GODAVARI', 'ANJAW',\n",
       "       'CHANGLANG', 'DIBANG VALLEY', 'EAST KAMENG', 'EAST SIANG',\n",
       "       'KURUNG KUMEY', 'LOHIT', 'LONGDING', 'LOWER DIBANG VALLEY',\n",
       "       'LOWER SUBANSIRI', 'NAMSAI', 'PAPUM PARE', 'TAWANG', 'TIRAP',\n",
       "       'UPPER SIANG', 'UPPER SUBANSIRI', 'WEST KAMENG', 'WEST SIANG',\n",
       "       'BAKSA', 'BARPETA', 'BONGAIGAON', 'CACHAR', 'CHIRANG', 'DARRANG',\n",
       "       'DHEMAJI', 'DHUBRI', 'DIBRUGARH', 'DIMA HASAO', 'GOALPARA',\n",
       "       'GOLAGHAT', 'HAILAKANDI', 'JORHAT', 'KAMRUP', 'KAMRUP METRO',\n",
       "       'KARBI ANGLONG', 'KARIMGANJ', 'KOKRAJHAR', 'LAKHIMPUR', 'MARIGAON',\n",
       "       'NAGAON', 'NALBARI', 'SIVASAGAR', 'SONITPUR', 'TINSUKIA',\n",
       "       'UDALGURI', 'ARARIA', 'ARWAL', 'AURANGABAD', 'BANKA', 'BEGUSARAI',\n",
       "       'BHAGALPUR', 'BHOJPUR', 'BUXAR', 'DARBHANGA', 'GAYA', 'GOPALGANJ',\n",
       "       'JAMUI', 'JEHANABAD', 'KAIMUR (BHABUA)', 'KATIHAR', 'KHAGARIA',\n",
       "       'KISHANGANJ', 'LAKHISARAI', 'MADHEPURA', 'MADHUBANI', 'MUNGER',\n",
       "       'MUZAFFARPUR', 'NALANDA', 'NAWADA', 'PASHCHIM CHAMPARAN', 'PATNA',\n",
       "       'PURBI CHAMPARAN', 'PURNIA', 'ROHTAS', 'SAHARSA', 'SAMASTIPUR',\n",
       "       'SARAN', 'SHEIKHPURA', 'SHEOHAR', 'SITAMARHI', 'SIWAN', 'SUPAUL',\n",
       "       'VAISHALI', 'CHANDIGARH', 'BALOD', 'BALODA BAZAR', 'BALRAMPUR',\n",
       "       'BASTAR', 'BEMETARA', 'BIJAPUR', 'BILASPUR', 'DANTEWADA',\n",
       "       'DHAMTARI', 'DURG', 'GARIYABAND', 'JANJGIR-CHAMPA', 'JASHPUR',\n",
       "       'KABIRDHAM', 'KANKER', 'KONDAGAON', 'KORBA', 'KOREA', 'MAHASAMUND',\n",
       "       'MUNGELI', 'NARAYANPUR', 'RAIGARH', 'RAIPUR', 'RAJNANDGAON',\n",
       "       'SUKMA', 'SURAJPUR', 'SURGUJA', 'DADRA AND NAGAR HAVELI',\n",
       "       'NORTH GOA', 'SOUTH GOA', 'AHMADABAD', 'AMRELI', 'ANAND',\n",
       "       'BANAS KANTHA', 'BHARUCH', 'BHAVNAGAR', 'DANG', 'DOHAD',\n",
       "       'GANDHINAGAR', 'JAMNAGAR', 'JUNAGADH', 'KACHCHH', 'KHEDA',\n",
       "       'MAHESANA', 'NARMADA', 'NAVSARI', 'PANCH MAHALS', 'PATAN',\n",
       "       'PORBANDAR', 'RAJKOT', 'SABAR KANTHA', 'SURAT', 'SURENDRANAGAR',\n",
       "       'TAPI', 'VADODARA', 'VALSAD', 'AMBALA', 'BHIWANI', 'FARIDABAD',\n",
       "       'FATEHABAD', 'GURGAON', 'HISAR', 'JHAJJAR', 'JIND', 'KAITHAL',\n",
       "       'KARNAL', 'KURUKSHETRA', 'MAHENDRAGARH', 'MEWAT', 'PALWAL',\n",
       "       'PANCHKULA', 'PANIPAT', 'REWARI', 'ROHTAK', 'SIRSA', 'SONIPAT',\n",
       "       'YAMUNANAGAR', 'CHAMBA', 'HAMIRPUR', 'KANGRA', 'KINNAUR', 'KULLU',\n",
       "       'LAHUL AND SPITI', 'MANDI', 'SHIMLA', 'SIRMAUR', 'SOLAN', 'UNA',\n",
       "       'ANANTNAG', 'BADGAM', 'BANDIPORA', 'BARAMULLA', 'DODA',\n",
       "       'GANDERBAL', 'JAMMU', 'KARGIL', 'KATHUA', 'KISHTWAR', 'KULGAM',\n",
       "       'KUPWARA', 'LEH LADAKH', 'POONCH', 'PULWAMA', 'RAJAURI', 'RAMBAN',\n",
       "       'REASI', 'SAMBA', 'SHOPIAN', 'SRINAGAR', 'UDHAMPUR', 'BOKARO',\n",
       "       'CHATRA', 'DEOGHAR', 'DHANBAD', 'DUMKA', 'EAST SINGHBUM', 'GARHWA',\n",
       "       'GIRIDIH', 'GODDA', 'GUMLA', 'HAZARIBAGH', 'JAMTARA', 'KHUNTI',\n",
       "       'KODERMA', 'LATEHAR', 'LOHARDAGA', 'PAKUR', 'PALAMU', 'RAMGARH',\n",
       "       'RANCHI', 'SAHEBGANJ', 'SARAIKELA KHARSAWAN', 'SIMDEGA',\n",
       "       'WEST SINGHBHUM', 'BAGALKOT', 'BANGALORE RURAL', 'BELGAUM',\n",
       "       'BELLARY', 'BENGALURU URBAN', 'BIDAR', 'CHAMARAJANAGAR',\n",
       "       'CHIKBALLAPUR', 'CHIKMAGALUR', 'CHITRADURGA', 'DAKSHIN KANNAD',\n",
       "       'DAVANGERE', 'DHARWAD', 'GADAG', 'GULBARGA', 'HASSAN', 'HAVERI',\n",
       "       'KODAGU', 'KOLAR', 'KOPPAL', 'MANDYA', 'MYSORE', 'RAICHUR',\n",
       "       'RAMANAGARA', 'SHIMOGA', 'TUMKUR', 'UDUPI', 'UTTAR KANNAD',\n",
       "       'YADGIR', 'ALAPPUZHA', 'ERNAKULAM', 'IDUKKI', 'KANNUR',\n",
       "       'KASARAGOD', 'KOLLAM', 'KOTTAYAM', 'KOZHIKODE', 'MALAPPURAM',\n",
       "       'PALAKKAD', 'PATHANAMTHITTA', 'THIRUVANANTHAPURAM', 'THRISSUR',\n",
       "       'WAYANAD', 'AGAR MALWA', 'ALIRAJPUR', 'ANUPPUR', 'ASHOKNAGAR',\n",
       "       'BALAGHAT', 'BARWANI', 'BETUL', 'BHIND', 'BHOPAL', 'BURHANPUR',\n",
       "       'CHHATARPUR', 'CHHINDWARA', 'DAMOH', 'DATIA', 'DEWAS', 'DHAR',\n",
       "       'DINDORI', 'GUNA', 'GWALIOR', 'HARDA', 'HOSHANGABAD', 'INDORE',\n",
       "       'JABALPUR', 'JHABUA', 'KATNI', 'KHANDWA', 'KHARGONE', 'MANDLA',\n",
       "       'MANDSAUR', 'MORENA', 'NARSINGHPUR', 'NEEMUCH', 'PANNA', 'RAISEN',\n",
       "       'RAJGARH', 'RATLAM', 'REWA', 'SAGAR', 'SATNA', 'SEHORE', 'SEONI',\n",
       "       'SHAHDOL', 'SHAJAPUR', 'SHEOPUR', 'SHIVPURI', 'SIDHI', 'SINGRAULI',\n",
       "       'TIKAMGARH', 'UJJAIN', 'UMARIA', 'VIDISHA', 'AHMEDNAGAR', 'AKOLA',\n",
       "       'AMRAVATI', 'BEED', 'BHANDARA', 'BULDHANA', 'CHANDRAPUR', 'DHULE',\n",
       "       'GADCHIROLI', 'GONDIA', 'HINGOLI', 'JALGAON', 'JALNA', 'KOLHAPUR',\n",
       "       'LATUR', 'NAGPUR', 'NANDED', 'NANDURBAR', 'NASHIK', 'OSMANABAD',\n",
       "       'PALGHAR', 'PARBHANI', 'PUNE', 'RAIGAD', 'RATNAGIRI', 'SANGLI',\n",
       "       'SATARA', 'SINDHUDURG', 'SOLAPUR', 'THANE', 'WARDHA', 'WASHIM',\n",
       "       'YAVATMAL', 'BISHNUPUR', 'CHANDEL', 'CHURACHANDPUR', 'IMPHAL EAST',\n",
       "       'IMPHAL WEST', 'SENAPATI', 'TAMENGLONG', 'THOUBAL', 'UKHRUL',\n",
       "       'EAST GARO HILLS', 'EAST JAINTIA HILLS', 'EAST KHASI HILLS',\n",
       "       'NORTH GARO HILLS', 'RI BHOI', 'SOUTH GARO HILLS',\n",
       "       'SOUTH WEST GARO HILLS', 'SOUTH WEST KHASI HILLS',\n",
       "       'WEST GARO HILLS', 'WEST JAINTIA HILLS', 'WEST KHASI HILLS',\n",
       "       'AIZAWL', 'CHAMPHAI', 'KOLASIB', 'LAWNGTLAI', 'LUNGLEI', 'MAMIT',\n",
       "       'SAIHA', 'SERCHHIP', 'DIMAPUR', 'KIPHIRE', 'KOHIMA', 'LONGLENG',\n",
       "       'MOKOKCHUNG', 'MON', 'PEREN', 'PHEK', 'TUENSANG', 'WOKHA',\n",
       "       'ZUNHEBOTO', 'ANUGUL', 'BALANGIR', 'BALESHWAR', 'BARGARH',\n",
       "       'BHADRAK', 'BOUDH', 'CUTTACK', 'DEOGARH', 'DHENKANAL', 'GAJAPATI',\n",
       "       'GANJAM', 'JAGATSINGHAPUR', 'JAJAPUR', 'JHARSUGUDA', 'KALAHANDI',\n",
       "       'KANDHAMAL', 'KENDRAPARA', 'KENDUJHAR', 'KHORDHA', 'KORAPUT',\n",
       "       'MALKANGIRI', 'MAYURBHANJ', 'NABARANGPUR', 'NAYAGARH', 'NUAPADA',\n",
       "       'PURI', 'RAYAGADA', 'SAMBALPUR', 'SONEPUR', 'SUNDARGARH',\n",
       "       'KARAIKAL', 'MAHE', 'PONDICHERRY', 'YANAM', 'AMRITSAR', 'BARNALA',\n",
       "       'BATHINDA', 'FARIDKOT', 'FATEHGARH SAHIB', 'FAZILKA', 'FIROZEPUR',\n",
       "       'GURDASPUR', 'HOSHIARPUR', 'JALANDHAR', 'KAPURTHALA', 'LUDHIANA',\n",
       "       'MANSA', 'MOGA', 'MUKTSAR', 'NAWANSHAHR', 'PATHANKOT', 'PATIALA',\n",
       "       'RUPNAGAR', 'S.A.S NAGAR', 'SANGRUR', 'TARN TARAN', 'AJMER',\n",
       "       'ALWAR', 'BANSWARA', 'BARAN', 'BARMER', 'BHARATPUR', 'BHILWARA',\n",
       "       'BIKANER', 'BUNDI', 'CHITTORGARH', 'CHURU', 'DAUSA', 'DHOLPUR',\n",
       "       'DUNGARPUR', 'GANGANAGAR', 'HANUMANGARH', 'JAIPUR', 'JAISALMER',\n",
       "       'JALORE', 'JHALAWAR', 'JHUNJHUNU', 'JODHPUR', 'KARAULI', 'KOTA',\n",
       "       'NAGAUR', 'PALI', 'PRATAPGARH', 'RAJSAMAND', 'SAWAI MADHOPUR',\n",
       "       'SIKAR', 'SIROHI', 'TONK', 'UDAIPUR', 'EAST DISTRICT',\n",
       "       'NORTH DISTRICT', 'SOUTH DISTRICT', 'WEST DISTRICT', 'ARIYALUR',\n",
       "       'COIMBATORE', 'CUDDALORE', 'DHARMAPURI', 'DINDIGUL', 'ERODE',\n",
       "       'KANCHIPURAM', 'KANNIYAKUMARI', 'KARUR', 'KRISHNAGIRI', 'MADURAI',\n",
       "       'NAGAPATTINAM', 'NAMAKKAL', 'PERAMBALUR', 'PUDUKKOTTAI',\n",
       "       'RAMANATHAPURAM', 'SALEM', 'SIVAGANGA', 'THANJAVUR',\n",
       "       'THE NILGIRIS', 'THENI', 'THIRUVALLUR', 'THIRUVARUR',\n",
       "       'TIRUCHIRAPPALLI', 'TIRUNELVELI', 'TIRUPPUR', 'TIRUVANNAMALAI',\n",
       "       'TUTICORIN', 'VELLORE', 'VILLUPURAM', 'VIRUDHUNAGAR', 'ADILABAD',\n",
       "       'KARIMNAGAR', 'KHAMMAM', 'MAHBUBNAGAR', 'MEDAK', 'NALGONDA',\n",
       "       'NIZAMABAD', 'RANGAREDDI', 'WARANGAL', 'DHALAI', 'GOMATI',\n",
       "       'KHOWAI', 'NORTH TRIPURA', 'SEPAHIJALA', 'SOUTH TRIPURA',\n",
       "       'UNAKOTI', 'WEST TRIPURA', 'AGRA', 'ALIGARH', 'ALLAHABAD',\n",
       "       'AMBEDKAR NAGAR', 'AMETHI', 'AMROHA', 'AURAIYA', 'AZAMGARH',\n",
       "       'BAGHPAT', 'BAHRAICH', 'BALLIA', 'BANDA', 'BARABANKI', 'BAREILLY',\n",
       "       'BASTI', 'BIJNOR', 'BUDAUN', 'BULANDSHAHR', 'CHANDAULI',\n",
       "       'CHITRAKOOT', 'DEORIA', 'ETAH', 'ETAWAH', 'FAIZABAD',\n",
       "       'FARRUKHABAD', 'FATEHPUR', 'FIROZABAD', 'GAUTAM BUDDHA NAGAR',\n",
       "       'GHAZIABAD', 'GHAZIPUR', 'GONDA', 'GORAKHPUR', 'HAPUR', 'HARDOI',\n",
       "       'HATHRAS', 'JALAUN', 'JAUNPUR', 'JHANSI', 'KANNAUJ',\n",
       "       'KANPUR DEHAT', 'KANPUR NAGAR', 'KASGANJ', 'KAUSHAMBI', 'KHERI',\n",
       "       'KUSHI NAGAR', 'LALITPUR', 'LUCKNOW', 'MAHARAJGANJ', 'MAHOBA',\n",
       "       'MAINPURI', 'MATHURA', 'MAU', 'MEERUT', 'MIRZAPUR', 'MORADABAD',\n",
       "       'MUZAFFARNAGAR', 'PILIBHIT', 'RAE BARELI', 'RAMPUR', 'SAHARANPUR',\n",
       "       'SAMBHAL', 'SANT KABEER NAGAR', 'SANT RAVIDAS NAGAR',\n",
       "       'SHAHJAHANPUR', 'SHAMLI', 'SHRAVASTI', 'SIDDHARTH NAGAR',\n",
       "       'SITAPUR', 'SONBHADRA', 'SULTANPUR', 'UNNAO', 'VARANASI', 'ALMORA',\n",
       "       'BAGESHWAR', 'CHAMOLI', 'CHAMPAWAT', 'DEHRADUN', 'HARIDWAR',\n",
       "       'NAINITAL', 'PAURI GARHWAL', 'PITHORAGARH', 'RUDRA PRAYAG',\n",
       "       'TEHRI GARHWAL', 'UDAM SINGH NAGAR', 'UTTAR KASHI',\n",
       "       '24 PARAGANAS NORTH', '24 PARAGANAS SOUTH', 'BANKURA', 'BARDHAMAN',\n",
       "       'BIRBHUM', 'COOCHBEHAR', 'DARJEELING', 'DINAJPUR DAKSHIN',\n",
       "       'DINAJPUR UTTAR', 'HOOGHLY', 'HOWRAH', 'JALPAIGURI', 'MALDAH',\n",
       "       'MEDINIPUR EAST', 'MEDINIPUR WEST', 'MURSHIDABAD', 'NADIA',\n",
       "       'PURULIA'], dtype=object)"
      ]
     },
     "execution_count": 18,
     "metadata": {},
     "output_type": "execute_result"
    }
   ],
   "source": [
    "df3[\"District_Name\"].unique()"
   ]
  },
  {
   "cell_type": "code",
   "execution_count": 19,
   "metadata": {},
   "outputs": [
    {
     "data": {
      "text/plain": [
       "Uttar Pradesh                  23153\n",
       "Madhya Pradesh                 16521\n",
       "Karnataka                      14900\n",
       "Bihar                          11843\n",
       "Assam                          10089\n",
       "Odisha                          9413\n",
       "Tamil Nadu                      8315\n",
       "Chhattisgarh                    8133\n",
       "Maharashtra                     8015\n",
       "Rajasthan                       7262\n",
       "Andhra Pradesh                  6869\n",
       "West Bengal                     6373\n",
       "Gujarat                         5531\n",
       "Haryana                         4042\n",
       "Telangana                       3975\n",
       "Uttarakhand                     3566\n",
       "Kerala                          2819\n",
       "Nagaland                        2726\n",
       "Punjab                          2215\n",
       "Meghalaya                       1878\n",
       "Himachal Pradesh                1686\n",
       "Arunachal Pradesh               1365\n",
       "Jharkhand                       1250\n",
       "Jammu and Kashmir               1151\n",
       "Tripura                         1002\n",
       "Manipur                          692\n",
       "Puducherry                       642\n",
       "Mizoram                          534\n",
       "Sikkim                           423\n",
       "Dadra and Nagar Haveli           156\n",
       "Andaman and Nicobar Islands      150\n",
       "Goa                              134\n",
       "Chandigarh                        55\n",
       "Name: State_Name, dtype: int64"
      ]
     },
     "execution_count": 19,
     "metadata": {},
     "output_type": "execute_result"
    }
   ],
   "source": [
    "df3['State_Name'].value_counts()"
   ]
  },
  {
   "cell_type": "code",
   "execution_count": 20,
   "metadata": {},
   "outputs": [
    {
     "data": {
      "text/plain": [
       "BIJAPUR      669\n",
       "TUMKUR       653\n",
       "BELGAUM      646\n",
       "DAVANGERE    642\n",
       "HASSAN       630\n",
       "            ... \n",
       "LONGDING       9\n",
       "PALGHAR        8\n",
       "KHUNTI         6\n",
       "RAMGARH        6\n",
       "NAMSAI         1\n",
       "Name: District_Name, Length: 644, dtype: int64"
      ]
     },
     "execution_count": 20,
     "metadata": {},
     "output_type": "execute_result"
    }
   ],
   "source": [
    "df3['District_Name'].value_counts()"
   ]
  },
  {
   "cell_type": "code",
   "execution_count": 21,
   "metadata": {},
   "outputs": [],
   "source": [
    "df4 = df3"
   ]
  },
  {
   "cell_type": "code",
   "execution_count": 22,
   "metadata": {},
   "outputs": [
    {
     "data": {
      "text/html": [
       "<div>\n",
       "<style scoped>\n",
       "    .dataframe tbody tr th:only-of-type {\n",
       "        vertical-align: middle;\n",
       "    }\n",
       "\n",
       "    .dataframe tbody tr th {\n",
       "        vertical-align: top;\n",
       "    }\n",
       "\n",
       "    .dataframe thead th {\n",
       "        text-align: right;\n",
       "    }\n",
       "</style>\n",
       "<table border=\"1\" class=\"dataframe\">\n",
       "  <thead>\n",
       "    <tr style=\"text-align: right;\">\n",
       "      <th></th>\n",
       "      <th>State_Name</th>\n",
       "      <th>District_Name</th>\n",
       "      <th>Crop_Year</th>\n",
       "      <th>Season</th>\n",
       "      <th>Crop</th>\n",
       "      <th>Cost</th>\n",
       "      <th>Cost_alter</th>\n",
       "    </tr>\n",
       "  </thead>\n",
       "  <tbody>\n",
       "    <tr>\n",
       "      <th>0</th>\n",
       "      <td>Andaman and Nicobar Islands</td>\n",
       "      <td>NICOBARS</td>\n",
       "      <td>2001</td>\n",
       "      <td>Kharif</td>\n",
       "      <td>Arecanut</td>\n",
       "      <td>335.666406</td>\n",
       "      <td>410.148666</td>\n",
       "    </tr>\n",
       "    <tr>\n",
       "      <th>1</th>\n",
       "      <td>Andaman and Nicobar Islands</td>\n",
       "      <td>NICOBARS</td>\n",
       "      <td>2001</td>\n",
       "      <td>Kharif</td>\n",
       "      <td>Rice</td>\n",
       "      <td>134.118240</td>\n",
       "      <td>111.981387</td>\n",
       "    </tr>\n",
       "    <tr>\n",
       "      <th>2</th>\n",
       "      <td>Andaman and Nicobar Islands</td>\n",
       "      <td>NICOBARS</td>\n",
       "      <td>2001</td>\n",
       "      <td>Whole Year</td>\n",
       "      <td>Cashewnut</td>\n",
       "      <td>504.000000</td>\n",
       "      <td>896.714638</td>\n",
       "    </tr>\n",
       "    <tr>\n",
       "      <th>3</th>\n",
       "      <td>Andaman and Nicobar Islands</td>\n",
       "      <td>NICOBARS</td>\n",
       "      <td>2001</td>\n",
       "      <td>Whole Year</td>\n",
       "      <td>Coconut</td>\n",
       "      <td>202.000000</td>\n",
       "      <td>41.177407</td>\n",
       "    </tr>\n",
       "    <tr>\n",
       "      <th>4</th>\n",
       "      <td>Andaman and Nicobar Islands</td>\n",
       "      <td>NICOBARS</td>\n",
       "      <td>2001</td>\n",
       "      <td>Whole Year</td>\n",
       "      <td>Dry ginger</td>\n",
       "      <td>144.000000</td>\n",
       "      <td>66.228826</td>\n",
       "    </tr>\n",
       "    <tr>\n",
       "      <th>...</th>\n",
       "      <td>...</td>\n",
       "      <td>...</td>\n",
       "      <td>...</td>\n",
       "      <td>...</td>\n",
       "      <td>...</td>\n",
       "      <td>...</td>\n",
       "      <td>...</td>\n",
       "    </tr>\n",
       "    <tr>\n",
       "      <th>182569</th>\n",
       "      <td>West Bengal</td>\n",
       "      <td>PURULIA</td>\n",
       "      <td>2014</td>\n",
       "      <td>Rabi</td>\n",
       "      <td>Wheat</td>\n",
       "      <td>54.634348</td>\n",
       "      <td>35.472353</td>\n",
       "    </tr>\n",
       "    <tr>\n",
       "      <th>182570</th>\n",
       "      <td>West Bengal</td>\n",
       "      <td>PURULIA</td>\n",
       "      <td>2014</td>\n",
       "      <td>Summer</td>\n",
       "      <td>Maize</td>\n",
       "      <td>277.480986</td>\n",
       "      <td>28.930219</td>\n",
       "    </tr>\n",
       "    <tr>\n",
       "      <th>182571</th>\n",
       "      <td>West Bengal</td>\n",
       "      <td>PURULIA</td>\n",
       "      <td>2014</td>\n",
       "      <td>Summer</td>\n",
       "      <td>Rice</td>\n",
       "      <td>338.161928</td>\n",
       "      <td>59.273870</td>\n",
       "    </tr>\n",
       "    <tr>\n",
       "      <th>182572</th>\n",
       "      <td>West Bengal</td>\n",
       "      <td>PURULIA</td>\n",
       "      <td>2014</td>\n",
       "      <td>Summer</td>\n",
       "      <td>Sesamum</td>\n",
       "      <td>81.665134</td>\n",
       "      <td>83.769433</td>\n",
       "    </tr>\n",
       "    <tr>\n",
       "      <th>182574</th>\n",
       "      <td>West Bengal</td>\n",
       "      <td>PURULIA</td>\n",
       "      <td>2014</td>\n",
       "      <td>Winter</td>\n",
       "      <td>Rice</td>\n",
       "      <td>24.681879</td>\n",
       "      <td>59.043129</td>\n",
       "    </tr>\n",
       "  </tbody>\n",
       "</table>\n",
       "<p>166878 rows × 7 columns</p>\n",
       "</div>"
      ],
      "text/plain": [
       "                         State_Name District_Name  Crop_Year       Season  \\\n",
       "0       Andaman and Nicobar Islands      NICOBARS       2001  Kharif        \n",
       "1       Andaman and Nicobar Islands      NICOBARS       2001  Kharif        \n",
       "2       Andaman and Nicobar Islands      NICOBARS       2001  Whole Year    \n",
       "3       Andaman and Nicobar Islands      NICOBARS       2001  Whole Year    \n",
       "4       Andaman and Nicobar Islands      NICOBARS       2001  Whole Year    \n",
       "...                             ...           ...        ...          ...   \n",
       "182569                  West Bengal       PURULIA       2014  Rabi          \n",
       "182570                  West Bengal       PURULIA       2014  Summer        \n",
       "182571                  West Bengal       PURULIA       2014  Summer        \n",
       "182572                  West Bengal       PURULIA       2014  Summer        \n",
       "182574                  West Bengal       PURULIA       2014  Winter        \n",
       "\n",
       "              Crop        Cost  Cost_alter  \n",
       "0         Arecanut  335.666406  410.148666  \n",
       "1             Rice  134.118240  111.981387  \n",
       "2        Cashewnut  504.000000  896.714638  \n",
       "3         Coconut   202.000000   41.177407  \n",
       "4       Dry ginger  144.000000   66.228826  \n",
       "...            ...         ...         ...  \n",
       "182569       Wheat   54.634348   35.472353  \n",
       "182570       Maize  277.480986   28.930219  \n",
       "182571        Rice  338.161928   59.273870  \n",
       "182572     Sesamum   81.665134   83.769433  \n",
       "182574        Rice   24.681879   59.043129  \n",
       "\n",
       "[166878 rows x 7 columns]"
      ]
     },
     "execution_count": 22,
     "metadata": {},
     "output_type": "execute_result"
    }
   ],
   "source": [
    "df4"
   ]
  },
  {
   "cell_type": "markdown",
   "metadata": {},
   "source": [
    "# Categorical data handling"
   ]
  },
  {
   "cell_type": "code",
   "execution_count": 23,
   "metadata": {},
   "outputs": [],
   "source": [
    "from sklearn import preprocessing\n",
    "label_encoder = preprocessing.LabelEncoder()\n",
    "df4['Season']= label_encoder.fit_transform(df4['Season'])"
   ]
  },
  {
   "cell_type": "code",
   "execution_count": 24,
   "metadata": {},
   "outputs": [
    {
     "name": "stdout",
     "output_type": "stream",
     "text": [
      "['Kharif     ' 'Whole Year ' 'Autumn     ' 'Rabi       ' 'Summer     '\n",
      " 'Winter     ']\n"
     ]
    }
   ],
   "source": [
    "list_season_name=label_encoder.inverse_transform((df4['Season'].unique()))\n",
    "print(list_season_name)"
   ]
  },
  {
   "cell_type": "code",
   "execution_count": 25,
   "metadata": {},
   "outputs": [
    {
     "name": "stdout",
     "output_type": "stream",
     "text": [
      "[0 1 2 3 4 5]\n"
     ]
    }
   ],
   "source": [
    "season_map=(df4['Season'].unique())\n",
    "season_map.sort()\n",
    "print(season_map)"
   ]
  },
  {
   "cell_type": "code",
   "execution_count": 26,
   "metadata": {},
   "outputs": [
    {
     "name": "stdout",
     "output_type": "stream",
     "text": [
      "['Autumn     ' 'Kharif     ' 'Rabi       ' 'Summer     ' 'Whole Year '\n",
      " 'Winter     ']\n"
     ]
    }
   ],
   "source": [
    "list_season_name=label_encoder.inverse_transform(season_map)\n",
    "print(list_season_name)"
   ]
  },
  {
   "cell_type": "code",
   "execution_count": 27,
   "metadata": {},
   "outputs": [],
   "source": [
    "df4['Crop']= label_encoder.fit_transform(df3['Crop'])"
   ]
  },
  {
   "cell_type": "code",
   "execution_count": 28,
   "metadata": {},
   "outputs": [
    {
     "name": "stdout",
     "output_type": "stream",
     "text": [
      "[ 0  1  2  3  4  5  6  7  8  9 10 11 12 13 14 15 16 17 18 19 20 21 22 23\n",
      " 24 25 26 27 28 29 30 31 32 33 34 35 36 37 38 39 40 41 42 43 44 45 46 47\n",
      " 48 49 50 51 52 53 54]\n",
      "['Arecanut' 'Arhar/Tur' 'Bajra' 'Banana' 'Barley' 'Bhindi' 'Black pepper'\n",
      " 'Blackgram' 'Bottle Gourd' 'Brinjal' 'Cabbage' 'Cardamom' 'Carrot'\n",
      " 'Cashewnut' 'Castor seed' 'Cauliflower' 'Coconut ' 'Coriander'\n",
      " 'Cotton(lint)' 'Cowpea(Lobia)' 'Cucumber' 'Dry chillies' 'Dry ginger'\n",
      " 'Garlic' 'Gram' 'Grapes' 'Groundnut' 'Horse-gram' 'Jowar' 'Jute' 'Lemon'\n",
      " 'Linseed' 'Maize' 'Mango' 'Masoor' 'Moong(Green Gram)' 'Niger seed'\n",
      " 'Onion' 'Orange' 'Papaya' 'Peas & beans (Pulses)' 'Potato' 'Ragi'\n",
      " 'Rapeseed &Mustard' 'Rice' 'Safflower' 'Sesamum' 'Soyabean'\n",
      " 'Sweet potato' 'Tea' 'Tobacco' 'Tomato' 'Turmeric' 'Urad' 'Wheat']\n"
     ]
    }
   ],
   "source": [
    "crop_map = df4['Crop'].unique()\n",
    "crop_map.sort()\n",
    "print(crop_map)\n",
    "\n",
    "list_crop=label_encoder.inverse_transform(crop_map)\n",
    "print(list_crop)"
   ]
  },
  {
   "cell_type": "code",
   "execution_count": 29,
   "metadata": {},
   "outputs": [],
   "source": [
    "df4['State_Name']= label_encoder.fit_transform(df4['State_Name'])"
   ]
  },
  {
   "cell_type": "code",
   "execution_count": 30,
   "metadata": {},
   "outputs": [
    {
     "name": "stdout",
     "output_type": "stream",
     "text": [
      "[ 0  1  2  3  4  5  6  7  8  9 10 11 12 13 14 15 16 17 18 19 20 21 22 23\n",
      " 24 25 26 27 28 29 30 31 32]\n",
      "['Andaman and Nicobar Islands' 'Andhra Pradesh' 'Arunachal Pradesh'\n",
      " 'Assam' 'Bihar' 'Chandigarh' 'Chhattisgarh' 'Dadra and Nagar Haveli'\n",
      " 'Goa' 'Gujarat' 'Haryana' 'Himachal Pradesh' 'Jammu and Kashmir '\n",
      " 'Jharkhand' 'Karnataka' 'Kerala' 'Madhya Pradesh' 'Maharashtra' 'Manipur'\n",
      " 'Meghalaya' 'Mizoram' 'Nagaland' 'Odisha' 'Puducherry' 'Punjab'\n",
      " 'Rajasthan' 'Sikkim' 'Tamil Nadu' 'Telangana ' 'Tripura' 'Uttar Pradesh'\n",
      " 'Uttarakhand' 'West Bengal']\n"
     ]
    }
   ],
   "source": [
    "state_map = df3['State_Name'].unique()\n",
    "state_map.sort()\n",
    "print(state_map)\n",
    "\n",
    "list_state=label_encoder.inverse_transform(state_map)\n",
    "print(list_state)"
   ]
  },
  {
   "cell_type": "code",
   "execution_count": 31,
   "metadata": {},
   "outputs": [],
   "source": [
    "df4['District_Name']= label_encoder.fit_transform(df4['District_Name'])"
   ]
  },
  {
   "cell_type": "code",
   "execution_count": 32,
   "metadata": {},
   "outputs": [
    {
     "name": "stdout",
     "output_type": "stream",
     "text": [
      "[  0   1   2   3   4   5   6   7   8   9  10  11  12  13  14  15  16  17\n",
      "  18  19  20  21  22  23  24  25  26  27  28  29  30  31  32  33  34  35\n",
      "  36  37  38  39  40  41  42  43  44  45  46  47  48  49  50  51  52  53\n",
      "  54  55  56  57  58  59  60  61  62  63  64  65  66  67  68  69  70  71\n",
      "  72  73  74  75  76  77  78  79  80  81  82  83  84  85  86  87  88  89\n",
      "  90  91  92  93  94  95  96  97  98  99 100 101 102 103 104 105 106 107\n",
      " 108 109 110 111 112 113 114 115 116 117 118 119 120 121 122 123 124 125\n",
      " 126 127 128 129 130 131 132 133 134 135 136 137 138 139 140 141 142 143\n",
      " 144 145 146 147 148 149 150 151 152 153 154 155 156 157 158 159 160 161\n",
      " 162 163 164 165 166 167 168 169 170 171 172 173 174 175 176 177 178 179\n",
      " 180 181 182 183 184 185 186 187 188 189 190 191 192 193 194 195 196 197\n",
      " 198 199 200 201 202 203 204 205 206 207 208 209 210 211 212 213 214 215\n",
      " 216 217 218 219 220 221 222 223 224 225 226 227 228 229 230 231 232 233\n",
      " 234 235 236 237 238 239 240 241 242 243 244 245 246 247 248 249 250 251\n",
      " 252 253 254 255 256 257 258 259 260 261 262 263 264 265 266 267 268 269\n",
      " 270 271 272 273 274 275 276 277 278 279 280 281 282 283 284 285 286 287\n",
      " 288 289 290 291 292 293 294 295 296 297 298 299 300 301 302 303 304 305\n",
      " 306 307 308 309 310 311 312 313 314 315 316 317 318 319 320 321 322 323\n",
      " 324 325 326 327 328 329 330 331 332 333 334 335 336 337 338 339 340 341\n",
      " 342 343 344 345 346 347 348 349 350 351 352 353 354 355 356 357 358 359\n",
      " 360 361 362 363 364 365 366 367 368 369 370 371 372 373 374 375 376 377\n",
      " 378 379 380 381 382 383 384 385 386 387 388 389 390 391 392 393 394 395\n",
      " 396 397 398 399 400 401 402 403 404 405 406 407 408 409 410 411 412 413\n",
      " 414 415 416 417 418 419 420 421 422 423 424 425 426 427 428 429 430 431\n",
      " 432 433 434 435 436 437 438 439 440 441 442 443 444 445 446 447 448 449\n",
      " 450 451 452 453 454 455 456 457 458 459 460 461 462 463 464 465 466 467\n",
      " 468 469 470 471 472 473 474 475 476 477 478 479 480 481 482 483 484 485\n",
      " 486 487 488 489 490 491 492 493 494 495 496 497 498 499 500 501 502 503\n",
      " 504 505 506 507 508 509 510 511 512 513 514 515 516 517 518 519 520 521\n",
      " 522 523 524 525 526 527 528 529 530 531 532 533 534 535 536 537 538 539\n",
      " 540 541 542 543 544 545 546 547 548 549 550 551 552 553 554 555 556 557\n",
      " 558 559 560 561 562 563 564 565 566 567 568 569 570 571 572 573 574 575\n",
      " 576 577 578 579 580 581 582 583 584 585 586 587 588 589 590 591 592 593\n",
      " 594 595 596 597 598 599 600 601 602 603 604 605 606 607 608 609 610 611\n",
      " 612 613 614 615 616 617 618 619 620 621 622 623 624 625 626 627 628 629\n",
      " 630 631 632 633 634 635 636 637 638 639 640 641 642 643]\n",
      "['24 PARAGANAS NORTH' '24 PARAGANAS SOUTH' 'ADILABAD' 'AGAR MALWA' 'AGRA'\n",
      " 'AHMADABAD' 'AHMEDNAGAR' 'AIZAWL' 'AJMER' 'AKOLA' 'ALAPPUZHA' 'ALIGARH'\n",
      " 'ALIRAJPUR' 'ALLAHABAD' 'ALMORA' 'ALWAR' 'AMBALA' 'AMBEDKAR NAGAR'\n",
      " 'AMETHI' 'AMRAVATI' 'AMRELI' 'AMRITSAR' 'AMROHA' 'ANAND' 'ANANTAPUR'\n",
      " 'ANANTNAG' 'ANJAW' 'ANUGUL' 'ANUPPUR' 'ARARIA' 'ARIYALUR' 'ARWAL'\n",
      " 'ASHOKNAGAR' 'AURAIYA' 'AURANGABAD' 'AZAMGARH' 'BADGAM' 'BAGALKOT'\n",
      " 'BAGESHWAR' 'BAGHPAT' 'BAHRAICH' 'BAKSA' 'BALAGHAT' 'BALANGIR'\n",
      " 'BALESHWAR' 'BALLIA' 'BALOD' 'BALODA BAZAR' 'BALRAMPUR' 'BANAS KANTHA'\n",
      " 'BANDA' 'BANDIPORA' 'BANGALORE RURAL' 'BANKA' 'BANKURA' 'BANSWARA'\n",
      " 'BARABANKI' 'BARAMULLA' 'BARAN' 'BARDHAMAN' 'BAREILLY' 'BARGARH' 'BARMER'\n",
      " 'BARNALA' 'BARPETA' 'BARWANI' 'BASTAR' 'BASTI' 'BATHINDA' 'BEED'\n",
      " 'BEGUSARAI' 'BELGAUM' 'BELLARY' 'BEMETARA' 'BENGALURU URBAN' 'BETUL'\n",
      " 'BHADRAK' 'BHAGALPUR' 'BHANDARA' 'BHARATPUR' 'BHARUCH' 'BHAVNAGAR'\n",
      " 'BHILWARA' 'BHIND' 'BHIWANI' 'BHOJPUR' 'BHOPAL' 'BIDAR' 'BIJAPUR'\n",
      " 'BIJNOR' 'BIKANER' 'BILASPUR' 'BIRBHUM' 'BISHNUPUR' 'BOKARO' 'BONGAIGAON'\n",
      " 'BOUDH' 'BUDAUN' 'BULANDSHAHR' 'BULDHANA' 'BUNDI' 'BURHANPUR' 'BUXAR'\n",
      " 'CACHAR' 'CHAMARAJANAGAR' 'CHAMBA' 'CHAMOLI' 'CHAMPAWAT' 'CHAMPHAI'\n",
      " 'CHANDAULI' 'CHANDEL' 'CHANDIGARH' 'CHANDRAPUR' 'CHANGLANG' 'CHATRA'\n",
      " 'CHHATARPUR' 'CHHINDWARA' 'CHIKBALLAPUR' 'CHIKMAGALUR' 'CHIRANG'\n",
      " 'CHITRADURGA' 'CHITRAKOOT' 'CHITTOOR' 'CHITTORGARH' 'CHURACHANDPUR'\n",
      " 'CHURU' 'COIMBATORE' 'COOCHBEHAR' 'CUDDALORE' 'CUTTACK'\n",
      " 'DADRA AND NAGAR HAVELI' 'DAKSHIN KANNAD' 'DAMOH' 'DANG' 'DANTEWADA'\n",
      " 'DARBHANGA' 'DARJEELING' 'DARRANG' 'DATIA' 'DAUSA' 'DAVANGERE' 'DEHRADUN'\n",
      " 'DEOGARH' 'DEOGHAR' 'DEORIA' 'DEWAS' 'DHALAI' 'DHAMTARI' 'DHANBAD' 'DHAR'\n",
      " 'DHARMAPURI' 'DHARWAD' 'DHEMAJI' 'DHENKANAL' 'DHOLPUR' 'DHUBRI' 'DHULE'\n",
      " 'DIBANG VALLEY' 'DIBRUGARH' 'DIMA HASAO' 'DIMAPUR' 'DINAJPUR DAKSHIN'\n",
      " 'DINAJPUR UTTAR' 'DINDIGUL' 'DINDORI' 'DODA' 'DOHAD' 'DUMKA' 'DUNGARPUR'\n",
      " 'DURG' 'EAST DISTRICT' 'EAST GARO HILLS' 'EAST GODAVARI'\n",
      " 'EAST JAINTIA HILLS' 'EAST KAMENG' 'EAST KHASI HILLS' 'EAST SIANG'\n",
      " 'EAST SINGHBUM' 'ERNAKULAM' 'ERODE' 'ETAH' 'ETAWAH' 'FAIZABAD'\n",
      " 'FARIDABAD' 'FARIDKOT' 'FARRUKHABAD' 'FATEHABAD' 'FATEHGARH SAHIB'\n",
      " 'FATEHPUR' 'FAZILKA' 'FIROZABAD' 'FIROZEPUR' 'GADAG' 'GADCHIROLI'\n",
      " 'GAJAPATI' 'GANDERBAL' 'GANDHINAGAR' 'GANGANAGAR' 'GANJAM' 'GARHWA'\n",
      " 'GARIYABAND' 'GAUTAM BUDDHA NAGAR' 'GAYA' 'GHAZIABAD' 'GHAZIPUR'\n",
      " 'GIRIDIH' 'GOALPARA' 'GODDA' 'GOLAGHAT' 'GOMATI' 'GONDA' 'GONDIA'\n",
      " 'GOPALGANJ' 'GORAKHPUR' 'GULBARGA' 'GUMLA' 'GUNA' 'GUNTUR' 'GURDASPUR'\n",
      " 'GURGAON' 'GWALIOR' 'HAILAKANDI' 'HAMIRPUR' 'HANUMANGARH' 'HAPUR' 'HARDA'\n",
      " 'HARDOI' 'HARIDWAR' 'HASSAN' 'HATHRAS' 'HAVERI' 'HAZARIBAGH' 'HINGOLI'\n",
      " 'HISAR' 'HOOGHLY' 'HOSHANGABAD' 'HOSHIARPUR' 'HOWRAH' 'IDUKKI'\n",
      " 'IMPHAL EAST' 'IMPHAL WEST' 'INDORE' 'JABALPUR' 'JAGATSINGHAPUR' 'JAIPUR'\n",
      " 'JAISALMER' 'JAJAPUR' 'JALANDHAR' 'JALAUN' 'JALGAON' 'JALNA' 'JALORE'\n",
      " 'JALPAIGURI' 'JAMMU' 'JAMNAGAR' 'JAMTARA' 'JAMUI' 'JANJGIR-CHAMPA'\n",
      " 'JASHPUR' 'JAUNPUR' 'JEHANABAD' 'JHABUA' 'JHAJJAR' 'JHALAWAR' 'JHANSI'\n",
      " 'JHARSUGUDA' 'JHUNJHUNU' 'JIND' 'JODHPUR' 'JORHAT' 'JUNAGADH' 'KABIRDHAM'\n",
      " 'KACHCHH' 'KADAPA' 'KAIMUR (BHABUA)' 'KAITHAL' 'KALAHANDI' 'KAMRUP'\n",
      " 'KAMRUP METRO' 'KANCHIPURAM' 'KANDHAMAL' 'KANGRA' 'KANKER' 'KANNAUJ'\n",
      " 'KANNIYAKUMARI' 'KANNUR' 'KANPUR DEHAT' 'KANPUR NAGAR' 'KAPURTHALA'\n",
      " 'KARAIKAL' 'KARAULI' 'KARBI ANGLONG' 'KARGIL' 'KARIMGANJ' 'KARIMNAGAR'\n",
      " 'KARNAL' 'KARUR' 'KASARAGOD' 'KASGANJ' 'KATHUA' 'KATIHAR' 'KATNI'\n",
      " 'KAUSHAMBI' 'KENDRAPARA' 'KENDUJHAR' 'KHAGARIA' 'KHAMMAM' 'KHANDWA'\n",
      " 'KHARGONE' 'KHEDA' 'KHERI' 'KHORDHA' 'KHOWAI' 'KHUNTI' 'KINNAUR'\n",
      " 'KIPHIRE' 'KISHANGANJ' 'KISHTWAR' 'KODAGU' 'KODERMA' 'KOHIMA' 'KOKRAJHAR'\n",
      " 'KOLAR' 'KOLASIB' 'KOLHAPUR' 'KOLLAM' 'KONDAGAON' 'KOPPAL' 'KORAPUT'\n",
      " 'KORBA' 'KOREA' 'KOTA' 'KOTTAYAM' 'KOZHIKODE' 'KRISHNA' 'KRISHNAGIRI'\n",
      " 'KULGAM' 'KULLU' 'KUPWARA' 'KURNOOL' 'KURUKSHETRA' 'KURUNG KUMEY'\n",
      " 'KUSHI NAGAR' 'LAHUL AND SPITI' 'LAKHIMPUR' 'LAKHISARAI' 'LALITPUR'\n",
      " 'LATEHAR' 'LATUR' 'LAWNGTLAI' 'LEH LADAKH' 'LOHARDAGA' 'LOHIT' 'LONGDING'\n",
      " 'LONGLENG' 'LOWER DIBANG VALLEY' 'LOWER SUBANSIRI' 'LUCKNOW' 'LUDHIANA'\n",
      " 'LUNGLEI' 'MADHEPURA' 'MADHUBANI' 'MADURAI' 'MAHARAJGANJ' 'MAHASAMUND'\n",
      " 'MAHBUBNAGAR' 'MAHE' 'MAHENDRAGARH' 'MAHESANA' 'MAHOBA' 'MAINPURI'\n",
      " 'MALAPPURAM' 'MALDAH' 'MALKANGIRI' 'MAMIT' 'MANDI' 'MANDLA' 'MANDSAUR'\n",
      " 'MANDYA' 'MANSA' 'MARIGAON' 'MATHURA' 'MAU' 'MAYURBHANJ' 'MEDAK'\n",
      " 'MEDINIPUR EAST' 'MEDINIPUR WEST' 'MEERUT' 'MEWAT' 'MIRZAPUR' 'MOGA'\n",
      " 'MOKOKCHUNG' 'MON' 'MORADABAD' 'MORENA' 'MUKTSAR' 'MUNGELI' 'MUNGER'\n",
      " 'MURSHIDABAD' 'MUZAFFARNAGAR' 'MUZAFFARPUR' 'MYSORE' 'NABARANGPUR'\n",
      " 'NADIA' 'NAGAON' 'NAGAPATTINAM' 'NAGAUR' 'NAGPUR' 'NAINITAL' 'NALANDA'\n",
      " 'NALBARI' 'NALGONDA' 'NAMAKKAL' 'NAMSAI' 'NANDED' 'NANDURBAR'\n",
      " 'NARAYANPUR' 'NARMADA' 'NARSINGHPUR' 'NASHIK' 'NAVSARI' 'NAWADA'\n",
      " 'NAWANSHAHR' 'NAYAGARH' 'NEEMUCH' 'NICOBARS' 'NIZAMABAD'\n",
      " 'NORTH AND MIDDLE ANDAMAN' 'NORTH DISTRICT' 'NORTH GARO HILLS'\n",
      " 'NORTH GOA' 'NORTH TRIPURA' 'NUAPADA' 'OSMANABAD' 'PAKUR' 'PALAKKAD'\n",
      " 'PALAMU' 'PALGHAR' 'PALI' 'PALWAL' 'PANCH MAHALS' 'PANCHKULA' 'PANIPAT'\n",
      " 'PANNA' 'PAPUM PARE' 'PARBHANI' 'PASHCHIM CHAMPARAN' 'PATAN'\n",
      " 'PATHANAMTHITTA' 'PATHANKOT' 'PATIALA' 'PATNA' 'PAURI GARHWAL'\n",
      " 'PERAMBALUR' 'PEREN' 'PHEK' 'PILIBHIT' 'PITHORAGARH' 'PONDICHERRY'\n",
      " 'POONCH' 'PORBANDAR' 'PRAKASAM' 'PRATAPGARH' 'PUDUKKOTTAI' 'PULWAMA'\n",
      " 'PUNE' 'PURBI CHAMPARAN' 'PURI' 'PURNIA' 'PURULIA' 'RAE BARELI' 'RAICHUR'\n",
      " 'RAIGAD' 'RAIGARH' 'RAIPUR' 'RAISEN' 'RAJAURI' 'RAJGARH' 'RAJKOT'\n",
      " 'RAJNANDGAON' 'RAJSAMAND' 'RAMANAGARA' 'RAMANATHAPURAM' 'RAMBAN'\n",
      " 'RAMGARH' 'RAMPUR' 'RANCHI' 'RANGAREDDI' 'RATLAM' 'RATNAGIRI' 'RAYAGADA'\n",
      " 'REASI' 'REWA' 'REWARI' 'RI BHOI' 'ROHTAK' 'ROHTAS' 'RUDRA PRAYAG'\n",
      " 'RUPNAGAR' 'S.A.S NAGAR' 'SABAR KANTHA' 'SAGAR' 'SAHARANPUR' 'SAHARSA'\n",
      " 'SAHEBGANJ' 'SAIHA' 'SALEM' 'SAMASTIPUR' 'SAMBA' 'SAMBALPUR' 'SAMBHAL'\n",
      " 'SANGLI' 'SANGRUR' 'SANT KABEER NAGAR' 'SANT RAVIDAS NAGAR'\n",
      " 'SARAIKELA KHARSAWAN' 'SARAN' 'SATARA' 'SATNA' 'SAWAI MADHOPUR' 'SEHORE'\n",
      " 'SENAPATI' 'SEONI' 'SEPAHIJALA' 'SERCHHIP' 'SHAHDOL' 'SHAHJAHANPUR'\n",
      " 'SHAJAPUR' 'SHAMLI' 'SHEIKHPURA' 'SHEOHAR' 'SHEOPUR' 'SHIMLA' 'SHIMOGA'\n",
      " 'SHIVPURI' 'SHOPIAN' 'SHRAVASTI' 'SIDDHARTH NAGAR' 'SIDHI' 'SIKAR'\n",
      " 'SIMDEGA' 'SINDHUDURG' 'SINGRAULI' 'SIRMAUR' 'SIROHI' 'SIRSA' 'SITAMARHI'\n",
      " 'SITAPUR' 'SIVAGANGA' 'SIVASAGAR' 'SIWAN' 'SOLAN' 'SOLAPUR' 'SONBHADRA'\n",
      " 'SONEPUR' 'SONIPAT' 'SONITPUR' 'SOUTH ANDAMANS' 'SOUTH DISTRICT'\n",
      " 'SOUTH GARO HILLS' 'SOUTH GOA' 'SOUTH TRIPURA' 'SOUTH WEST GARO HILLS'\n",
      " 'SOUTH WEST KHASI HILLS' 'SPSR NELLORE' 'SRIKAKULAM' 'SRINAGAR' 'SUKMA'\n",
      " 'SULTANPUR' 'SUNDARGARH' 'SUPAUL' 'SURAJPUR' 'SURAT' 'SURENDRANAGAR'\n",
      " 'SURGUJA' 'TAMENGLONG' 'TAPI' 'TARN TARAN' 'TAWANG' 'TEHRI GARHWAL'\n",
      " 'THANE' 'THANJAVUR' 'THE NILGIRIS' 'THENI' 'THIRUVALLUR'\n",
      " 'THIRUVANANTHAPURAM' 'THIRUVARUR' 'THOUBAL' 'THRISSUR' 'TIKAMGARH'\n",
      " 'TINSUKIA' 'TIRAP' 'TIRUCHIRAPPALLI' 'TIRUNELVELI' 'TIRUPPUR'\n",
      " 'TIRUVANNAMALAI' 'TONK' 'TUENSANG' 'TUMKUR' 'TUTICORIN' 'UDAIPUR'\n",
      " 'UDALGURI' 'UDAM SINGH NAGAR' 'UDHAMPUR' 'UDUPI' 'UJJAIN' 'UKHRUL'\n",
      " 'UMARIA' 'UNA' 'UNAKOTI' 'UNNAO' 'UPPER SIANG' 'UPPER SUBANSIRI'\n",
      " 'UTTAR KANNAD' 'UTTAR KASHI' 'VADODARA' 'VAISHALI' 'VALSAD' 'VARANASI'\n",
      " 'VELLORE' 'VIDISHA' 'VILLUPURAM' 'VIRUDHUNAGAR' 'VISAKHAPATANAM'\n",
      " 'VIZIANAGARAM' 'WARANGAL' 'WARDHA' 'WASHIM' 'WAYANAD' 'WEST DISTRICT'\n",
      " 'WEST GARO HILLS' 'WEST GODAVARI' 'WEST JAINTIA HILLS' 'WEST KAMENG'\n",
      " 'WEST KHASI HILLS' 'WEST SIANG' 'WEST SINGHBHUM' 'WEST TRIPURA' 'WOKHA'\n",
      " 'YADGIR' 'YAMUNANAGAR' 'YANAM' 'YAVATMAL' 'ZUNHEBOTO']\n"
     ]
    }
   ],
   "source": [
    "district_map = df3['District_Name'].unique()\n",
    "district_map.sort()\n",
    "print(district_map)\n",
    "\n",
    "list_district=label_encoder.inverse_transform(district_map)\n",
    "print(list_district)"
   ]
  },
  {
   "cell_type": "code",
   "execution_count": 33,
   "metadata": {},
   "outputs": [
    {
     "data": {
      "text/html": [
       "<div>\n",
       "<style scoped>\n",
       "    .dataframe tbody tr th:only-of-type {\n",
       "        vertical-align: middle;\n",
       "    }\n",
       "\n",
       "    .dataframe tbody tr th {\n",
       "        vertical-align: top;\n",
       "    }\n",
       "\n",
       "    .dataframe thead th {\n",
       "        text-align: right;\n",
       "    }\n",
       "</style>\n",
       "<table border=\"1\" class=\"dataframe\">\n",
       "  <thead>\n",
       "    <tr style=\"text-align: right;\">\n",
       "      <th></th>\n",
       "      <th>State_Name</th>\n",
       "      <th>District_Name</th>\n",
       "      <th>Crop_Year</th>\n",
       "      <th>Season</th>\n",
       "      <th>Crop</th>\n",
       "      <th>Cost</th>\n",
       "      <th>Cost_alter</th>\n",
       "    </tr>\n",
       "  </thead>\n",
       "  <tbody>\n",
       "    <tr>\n",
       "      <th>0</th>\n",
       "      <td>0</td>\n",
       "      <td>425</td>\n",
       "      <td>2001</td>\n",
       "      <td>1</td>\n",
       "      <td>0</td>\n",
       "      <td>335.666406</td>\n",
       "      <td>410.148666</td>\n",
       "    </tr>\n",
       "    <tr>\n",
       "      <th>1</th>\n",
       "      <td>0</td>\n",
       "      <td>425</td>\n",
       "      <td>2001</td>\n",
       "      <td>1</td>\n",
       "      <td>44</td>\n",
       "      <td>134.118240</td>\n",
       "      <td>111.981387</td>\n",
       "    </tr>\n",
       "    <tr>\n",
       "      <th>2</th>\n",
       "      <td>0</td>\n",
       "      <td>425</td>\n",
       "      <td>2001</td>\n",
       "      <td>4</td>\n",
       "      <td>13</td>\n",
       "      <td>504.000000</td>\n",
       "      <td>896.714638</td>\n",
       "    </tr>\n",
       "    <tr>\n",
       "      <th>3</th>\n",
       "      <td>0</td>\n",
       "      <td>425</td>\n",
       "      <td>2001</td>\n",
       "      <td>4</td>\n",
       "      <td>16</td>\n",
       "      <td>202.000000</td>\n",
       "      <td>41.177407</td>\n",
       "    </tr>\n",
       "    <tr>\n",
       "      <th>4</th>\n",
       "      <td>0</td>\n",
       "      <td>425</td>\n",
       "      <td>2001</td>\n",
       "      <td>4</td>\n",
       "      <td>22</td>\n",
       "      <td>144.000000</td>\n",
       "      <td>66.228826</td>\n",
       "    </tr>\n",
       "    <tr>\n",
       "      <th>...</th>\n",
       "      <td>...</td>\n",
       "      <td>...</td>\n",
       "      <td>...</td>\n",
       "      <td>...</td>\n",
       "      <td>...</td>\n",
       "      <td>...</td>\n",
       "      <td>...</td>\n",
       "    </tr>\n",
       "    <tr>\n",
       "      <th>182569</th>\n",
       "      <td>32</td>\n",
       "      <td>469</td>\n",
       "      <td>2014</td>\n",
       "      <td>2</td>\n",
       "      <td>54</td>\n",
       "      <td>54.634348</td>\n",
       "      <td>35.472353</td>\n",
       "    </tr>\n",
       "    <tr>\n",
       "      <th>182570</th>\n",
       "      <td>32</td>\n",
       "      <td>469</td>\n",
       "      <td>2014</td>\n",
       "      <td>3</td>\n",
       "      <td>32</td>\n",
       "      <td>277.480986</td>\n",
       "      <td>28.930219</td>\n",
       "    </tr>\n",
       "    <tr>\n",
       "      <th>182571</th>\n",
       "      <td>32</td>\n",
       "      <td>469</td>\n",
       "      <td>2014</td>\n",
       "      <td>3</td>\n",
       "      <td>44</td>\n",
       "      <td>338.161928</td>\n",
       "      <td>59.273870</td>\n",
       "    </tr>\n",
       "    <tr>\n",
       "      <th>182572</th>\n",
       "      <td>32</td>\n",
       "      <td>469</td>\n",
       "      <td>2014</td>\n",
       "      <td>3</td>\n",
       "      <td>46</td>\n",
       "      <td>81.665134</td>\n",
       "      <td>83.769433</td>\n",
       "    </tr>\n",
       "    <tr>\n",
       "      <th>182574</th>\n",
       "      <td>32</td>\n",
       "      <td>469</td>\n",
       "      <td>2014</td>\n",
       "      <td>5</td>\n",
       "      <td>44</td>\n",
       "      <td>24.681879</td>\n",
       "      <td>59.043129</td>\n",
       "    </tr>\n",
       "  </tbody>\n",
       "</table>\n",
       "<p>166878 rows × 7 columns</p>\n",
       "</div>"
      ],
      "text/plain": [
       "        State_Name  District_Name  Crop_Year  Season  Crop        Cost  \\\n",
       "0                0            425       2001       1     0  335.666406   \n",
       "1                0            425       2001       1    44  134.118240   \n",
       "2                0            425       2001       4    13  504.000000   \n",
       "3                0            425       2001       4    16  202.000000   \n",
       "4                0            425       2001       4    22  144.000000   \n",
       "...            ...            ...        ...     ...   ...         ...   \n",
       "182569          32            469       2014       2    54   54.634348   \n",
       "182570          32            469       2014       3    32  277.480986   \n",
       "182571          32            469       2014       3    44  338.161928   \n",
       "182572          32            469       2014       3    46   81.665134   \n",
       "182574          32            469       2014       5    44   24.681879   \n",
       "\n",
       "        Cost_alter  \n",
       "0       410.148666  \n",
       "1       111.981387  \n",
       "2       896.714638  \n",
       "3        41.177407  \n",
       "4        66.228826  \n",
       "...            ...  \n",
       "182569   35.472353  \n",
       "182570   28.930219  \n",
       "182571   59.273870  \n",
       "182572   83.769433  \n",
       "182574   59.043129  \n",
       "\n",
       "[166878 rows x 7 columns]"
      ]
     },
     "execution_count": 33,
     "metadata": {},
     "output_type": "execute_result"
    }
   ],
   "source": [
    "df4"
   ]
  },
  {
   "cell_type": "markdown",
   "metadata": {},
   "source": [
    "# Splitting the dataset for train and test"
   ]
  },
  {
   "cell_type": "code",
   "execution_count": 34,
   "metadata": {},
   "outputs": [],
   "source": [
    "from sklearn.model_selection import train_test_split\n",
    "#from sklearn.cross_validation import train_test_split"
   ]
  },
  {
   "cell_type": "code",
   "execution_count": 35,
   "metadata": {},
   "outputs": [],
   "source": [
    "X = df4.iloc[:,:5]\n",
    "Y = df4.iloc[:,-1]"
   ]
  },
  {
   "cell_type": "code",
   "execution_count": 36,
   "metadata": {},
   "outputs": [
    {
     "data": {
      "text/html": [
       "<div>\n",
       "<style scoped>\n",
       "    .dataframe tbody tr th:only-of-type {\n",
       "        vertical-align: middle;\n",
       "    }\n",
       "\n",
       "    .dataframe tbody tr th {\n",
       "        vertical-align: top;\n",
       "    }\n",
       "\n",
       "    .dataframe thead th {\n",
       "        text-align: right;\n",
       "    }\n",
       "</style>\n",
       "<table border=\"1\" class=\"dataframe\">\n",
       "  <thead>\n",
       "    <tr style=\"text-align: right;\">\n",
       "      <th></th>\n",
       "      <th>State_Name</th>\n",
       "      <th>District_Name</th>\n",
       "      <th>Crop_Year</th>\n",
       "      <th>Season</th>\n",
       "      <th>Crop</th>\n",
       "    </tr>\n",
       "  </thead>\n",
       "  <tbody>\n",
       "    <tr>\n",
       "      <th>0</th>\n",
       "      <td>0</td>\n",
       "      <td>425</td>\n",
       "      <td>2001</td>\n",
       "      <td>1</td>\n",
       "      <td>0</td>\n",
       "    </tr>\n",
       "    <tr>\n",
       "      <th>1</th>\n",
       "      <td>0</td>\n",
       "      <td>425</td>\n",
       "      <td>2001</td>\n",
       "      <td>1</td>\n",
       "      <td>44</td>\n",
       "    </tr>\n",
       "    <tr>\n",
       "      <th>2</th>\n",
       "      <td>0</td>\n",
       "      <td>425</td>\n",
       "      <td>2001</td>\n",
       "      <td>4</td>\n",
       "      <td>13</td>\n",
       "    </tr>\n",
       "    <tr>\n",
       "      <th>3</th>\n",
       "      <td>0</td>\n",
       "      <td>425</td>\n",
       "      <td>2001</td>\n",
       "      <td>4</td>\n",
       "      <td>16</td>\n",
       "    </tr>\n",
       "    <tr>\n",
       "      <th>4</th>\n",
       "      <td>0</td>\n",
       "      <td>425</td>\n",
       "      <td>2001</td>\n",
       "      <td>4</td>\n",
       "      <td>22</td>\n",
       "    </tr>\n",
       "    <tr>\n",
       "      <th>...</th>\n",
       "      <td>...</td>\n",
       "      <td>...</td>\n",
       "      <td>...</td>\n",
       "      <td>...</td>\n",
       "      <td>...</td>\n",
       "    </tr>\n",
       "    <tr>\n",
       "      <th>182569</th>\n",
       "      <td>32</td>\n",
       "      <td>469</td>\n",
       "      <td>2014</td>\n",
       "      <td>2</td>\n",
       "      <td>54</td>\n",
       "    </tr>\n",
       "    <tr>\n",
       "      <th>182570</th>\n",
       "      <td>32</td>\n",
       "      <td>469</td>\n",
       "      <td>2014</td>\n",
       "      <td>3</td>\n",
       "      <td>32</td>\n",
       "    </tr>\n",
       "    <tr>\n",
       "      <th>182571</th>\n",
       "      <td>32</td>\n",
       "      <td>469</td>\n",
       "      <td>2014</td>\n",
       "      <td>3</td>\n",
       "      <td>44</td>\n",
       "    </tr>\n",
       "    <tr>\n",
       "      <th>182572</th>\n",
       "      <td>32</td>\n",
       "      <td>469</td>\n",
       "      <td>2014</td>\n",
       "      <td>3</td>\n",
       "      <td>46</td>\n",
       "    </tr>\n",
       "    <tr>\n",
       "      <th>182574</th>\n",
       "      <td>32</td>\n",
       "      <td>469</td>\n",
       "      <td>2014</td>\n",
       "      <td>5</td>\n",
       "      <td>44</td>\n",
       "    </tr>\n",
       "  </tbody>\n",
       "</table>\n",
       "<p>166878 rows × 5 columns</p>\n",
       "</div>"
      ],
      "text/plain": [
       "        State_Name  District_Name  Crop_Year  Season  Crop\n",
       "0                0            425       2001       1     0\n",
       "1                0            425       2001       1    44\n",
       "2                0            425       2001       4    13\n",
       "3                0            425       2001       4    16\n",
       "4                0            425       2001       4    22\n",
       "...            ...            ...        ...     ...   ...\n",
       "182569          32            469       2014       2    54\n",
       "182570          32            469       2014       3    32\n",
       "182571          32            469       2014       3    44\n",
       "182572          32            469       2014       3    46\n",
       "182574          32            469       2014       5    44\n",
       "\n",
       "[166878 rows x 5 columns]"
      ]
     },
     "execution_count": 36,
     "metadata": {},
     "output_type": "execute_result"
    }
   ],
   "source": [
    "X"
   ]
  },
  {
   "cell_type": "code",
   "execution_count": 37,
   "metadata": {},
   "outputs": [
    {
     "data": {
      "text/plain": [
       "0         410.148666\n",
       "1         111.981387\n",
       "2         896.714638\n",
       "3          41.177407\n",
       "4          66.228826\n",
       "             ...    \n",
       "182569     35.472353\n",
       "182570     28.930219\n",
       "182571     59.273870\n",
       "182572     83.769433\n",
       "182574     59.043129\n",
       "Name: Cost_alter, Length: 166878, dtype: float64"
      ]
     },
     "execution_count": 37,
     "metadata": {},
     "output_type": "execute_result"
    }
   ],
   "source": [
    "Y"
   ]
  },
  {
   "cell_type": "code",
   "execution_count": 38,
   "metadata": {},
   "outputs": [],
   "source": [
    "X_train,X_test,Y_train,Y_test = train_test_split(X,Y,test_size=0.3,random_state=100)"
   ]
  },
  {
   "cell_type": "code",
   "execution_count": 39,
   "metadata": {},
   "outputs": [],
   "source": [
    "# Initialzing empty lists to append all model's name and corresponding name\n",
    "acc = []\n",
    "model = []"
   ]
  },
  {
   "cell_type": "code",
   "execution_count": 40,
   "metadata": {},
   "outputs": [],
   "source": [
    "#RANDOM FOREST\n"
   ]
  },
  {
   "cell_type": "code",
   "execution_count": 44,
   "metadata": {},
   "outputs": [
    {
     "data": {
      "text/plain": [
       "RandomForestRegressor(n_estimators=300, n_jobs=-1, random_state=1)"
      ]
     },
     "execution_count": 44,
     "metadata": {},
     "output_type": "execute_result"
    }
   ],
   "source": [
    "from sklearn.ensemble import RandomForestRegressor\n",
    "from sklearn.metrics import roc_auc_score , classification_report, mean_squared_error, r2_score\n",
    "forest = RandomForestRegressor(n_estimators=300, \n",
    "                               criterion='mse', \n",
    "                               random_state=1, \n",
    "                               n_jobs=-1)\n",
    "forest.fit(X_train, Y_train)\n",
    "# y_train_pred = forest.predict(X_train)\n",
    "# y_test_pred = forest.predict(X_test)\n",
    "\n",
    "# print('MSE train: %.3f, test: %.3f' % (\n",
    "#         mean_squared_error(Y_train, y_train_pred),\n",
    "#         mean_squared_error(Y_test, y_test_pred)))\n",
    "# print('R^2 train: %.3f, test: %.3f' % (\n",
    "#         r2_score(Y_train, y_train_pred),\n",
    "#         r2_score(Y_test, y_test_pred)))\n",
    "\n"
   ]
  },
  {
   "cell_type": "code",
   "execution_count": 42,
   "metadata": {},
   "outputs": [],
   "source": [
    "# predicted_values = forest.predict(X_test)\n",
    "\n",
    "# x = metrics.accuracy_score(Y_test, predicted_values)\n",
    "# acc.append(x)\n",
    "# model.append('RF')"
   ]
  },
  {
   "cell_type": "code",
   "execution_count": 45,
   "metadata": {},
   "outputs": [
    {
     "data": {
      "text/html": [
       "<div>\n",
       "<style scoped>\n",
       "    .dataframe tbody tr th:only-of-type {\n",
       "        vertical-align: middle;\n",
       "    }\n",
       "\n",
       "    .dataframe tbody tr th {\n",
       "        vertical-align: top;\n",
       "    }\n",
       "\n",
       "    .dataframe thead th {\n",
       "        text-align: right;\n",
       "    }\n",
       "</style>\n",
       "<table border=\"1\" class=\"dataframe\">\n",
       "  <thead>\n",
       "    <tr style=\"text-align: right;\">\n",
       "      <th></th>\n",
       "      <th>State_Name</th>\n",
       "      <th>District_Name</th>\n",
       "      <th>Crop_Year</th>\n",
       "      <th>Season</th>\n",
       "      <th>Crop</th>\n",
       "    </tr>\n",
       "  </thead>\n",
       "  <tbody>\n",
       "    <tr>\n",
       "      <th>60910</th>\n",
       "      <td>14</td>\n",
       "      <td>87</td>\n",
       "      <td>2009</td>\n",
       "      <td>3</td>\n",
       "      <td>21</td>\n",
       "    </tr>\n",
       "    <tr>\n",
       "      <th>87060</th>\n",
       "      <td>16</td>\n",
       "      <td>377</td>\n",
       "      <td>2006</td>\n",
       "      <td>1</td>\n",
       "      <td>28</td>\n",
       "    </tr>\n",
       "    <tr>\n",
       "      <th>99495</th>\n",
       "      <td>17</td>\n",
       "      <td>407</td>\n",
       "      <td>2003</td>\n",
       "      <td>4</td>\n",
       "      <td>33</td>\n",
       "    </tr>\n",
       "    <tr>\n",
       "      <th>63026</th>\n",
       "      <td>14</td>\n",
       "      <td>118</td>\n",
       "      <td>2009</td>\n",
       "      <td>2</td>\n",
       "      <td>27</td>\n",
       "    </tr>\n",
       "    <tr>\n",
       "      <th>96391</th>\n",
       "      <td>17</td>\n",
       "      <td>69</td>\n",
       "      <td>2010</td>\n",
       "      <td>2</td>\n",
       "      <td>32</td>\n",
       "    </tr>\n",
       "    <tr>\n",
       "      <th>...</th>\n",
       "      <td>...</td>\n",
       "      <td>...</td>\n",
       "      <td>...</td>\n",
       "      <td>...</td>\n",
       "      <td>...</td>\n",
       "    </tr>\n",
       "    <tr>\n",
       "      <th>9870</th>\n",
       "      <td>3</td>\n",
       "      <td>64</td>\n",
       "      <td>2013</td>\n",
       "      <td>2</td>\n",
       "      <td>24</td>\n",
       "    </tr>\n",
       "    <tr>\n",
       "      <th>126506</th>\n",
       "      <td>25</td>\n",
       "      <td>139</td>\n",
       "      <td>2004</td>\n",
       "      <td>4</td>\n",
       "      <td>17</td>\n",
       "    </tr>\n",
       "    <tr>\n",
       "      <th>57431</th>\n",
       "      <td>13</td>\n",
       "      <td>636</td>\n",
       "      <td>2002</td>\n",
       "      <td>0</td>\n",
       "      <td>44</td>\n",
       "    </tr>\n",
       "    <tr>\n",
       "      <th>168288</th>\n",
       "      <td>30</td>\n",
       "      <td>513</td>\n",
       "      <td>2005</td>\n",
       "      <td>1</td>\n",
       "      <td>44</td>\n",
       "    </tr>\n",
       "    <tr>\n",
       "      <th>160052</th>\n",
       "      <td>30</td>\n",
       "      <td>264</td>\n",
       "      <td>2007</td>\n",
       "      <td>3</td>\n",
       "      <td>35</td>\n",
       "    </tr>\n",
       "  </tbody>\n",
       "</table>\n",
       "<p>50064 rows × 5 columns</p>\n",
       "</div>"
      ],
      "text/plain": [
       "        State_Name  District_Name  Crop_Year  Season  Crop\n",
       "60910           14             87       2009       3    21\n",
       "87060           16            377       2006       1    28\n",
       "99495           17            407       2003       4    33\n",
       "63026           14            118       2009       2    27\n",
       "96391           17             69       2010       2    32\n",
       "...            ...            ...        ...     ...   ...\n",
       "9870             3             64       2013       2    24\n",
       "126506          25            139       2004       4    17\n",
       "57431           13            636       2002       0    44\n",
       "168288          30            513       2005       1    44\n",
       "160052          30            264       2007       3    35\n",
       "\n",
       "[50064 rows x 5 columns]"
      ]
     },
     "execution_count": 45,
     "metadata": {},
     "output_type": "execute_result"
    }
   ],
   "source": [
    "X_test"
   ]
  },
  {
   "cell_type": "code",
   "execution_count": 46,
   "metadata": {},
   "outputs": [
    {
     "data": {
      "text/plain": [
       "60910      92.356415\n",
       "87060      22.274207\n",
       "99495      48.278944\n",
       "63026      89.658876\n",
       "96391      28.846434\n",
       "             ...    \n",
       "9870       85.640404\n",
       "126506     82.346823\n",
       "57431     112.320563\n",
       "168288    107.511741\n",
       "160052     82.242379\n",
       "Name: Cost_alter, Length: 50064, dtype: float64"
      ]
     },
     "execution_count": 46,
     "metadata": {},
     "output_type": "execute_result"
    }
   ],
   "source": [
    "Y_test"
   ]
  },
  {
   "cell_type": "code",
   "execution_count": 47,
   "metadata": {},
   "outputs": [
    {
     "name": "stdout",
     "output_type": "stream",
     "text": [
      "0.9497883692378377\n"
     ]
    }
   ],
   "source": [
    "print(forest.score(X_test,Y_test))"
   ]
  },
  {
   "cell_type": "code",
   "execution_count": 76,
   "metadata": {},
   "outputs": [
    {
     "data": {
      "text/plain": [
       "array([ 80.31043065,  38.71418087,  50.83161915, ..., 103.44015445,\n",
       "       119.12162478,  81.61125898])"
      ]
     },
     "execution_count": 76,
     "metadata": {},
     "output_type": "execute_result"
    }
   ],
   "source": [
    "forest.predict(X_test)"
   ]
  },
  {
   "cell_type": "code",
   "execution_count": 33,
   "metadata": {},
   "outputs": [
    {
     "data": {
      "text/html": [
       "<div>\n",
       "<style scoped>\n",
       "    .dataframe tbody tr th:only-of-type {\n",
       "        vertical-align: middle;\n",
       "    }\n",
       "\n",
       "    .dataframe tbody tr th {\n",
       "        vertical-align: top;\n",
       "    }\n",
       "\n",
       "    .dataframe thead th {\n",
       "        text-align: right;\n",
       "    }\n",
       "</style>\n",
       "<table border=\"1\" class=\"dataframe\">\n",
       "  <thead>\n",
       "    <tr style=\"text-align: right;\">\n",
       "      <th></th>\n",
       "      <th>State_Name</th>\n",
       "      <th>District_Name</th>\n",
       "      <th>Crop_Year</th>\n",
       "      <th>Season</th>\n",
       "      <th>Crop</th>\n",
       "    </tr>\n",
       "  </thead>\n",
       "  <tbody>\n",
       "    <tr>\n",
       "      <th>60910</th>\n",
       "      <td>14</td>\n",
       "      <td>87</td>\n",
       "      <td>2009</td>\n",
       "      <td>3</td>\n",
       "      <td>21</td>\n",
       "    </tr>\n",
       "    <tr>\n",
       "      <th>87060</th>\n",
       "      <td>16</td>\n",
       "      <td>377</td>\n",
       "      <td>2006</td>\n",
       "      <td>1</td>\n",
       "      <td>28</td>\n",
       "    </tr>\n",
       "    <tr>\n",
       "      <th>99495</th>\n",
       "      <td>17</td>\n",
       "      <td>407</td>\n",
       "      <td>2003</td>\n",
       "      <td>4</td>\n",
       "      <td>33</td>\n",
       "    </tr>\n",
       "    <tr>\n",
       "      <th>63026</th>\n",
       "      <td>14</td>\n",
       "      <td>118</td>\n",
       "      <td>2009</td>\n",
       "      <td>2</td>\n",
       "      <td>27</td>\n",
       "    </tr>\n",
       "    <tr>\n",
       "      <th>96391</th>\n",
       "      <td>17</td>\n",
       "      <td>69</td>\n",
       "      <td>2010</td>\n",
       "      <td>2</td>\n",
       "      <td>32</td>\n",
       "    </tr>\n",
       "    <tr>\n",
       "      <th>...</th>\n",
       "      <td>...</td>\n",
       "      <td>...</td>\n",
       "      <td>...</td>\n",
       "      <td>...</td>\n",
       "      <td>...</td>\n",
       "    </tr>\n",
       "    <tr>\n",
       "      <th>9870</th>\n",
       "      <td>3</td>\n",
       "      <td>64</td>\n",
       "      <td>2013</td>\n",
       "      <td>2</td>\n",
       "      <td>24</td>\n",
       "    </tr>\n",
       "    <tr>\n",
       "      <th>126506</th>\n",
       "      <td>25</td>\n",
       "      <td>139</td>\n",
       "      <td>2004</td>\n",
       "      <td>4</td>\n",
       "      <td>17</td>\n",
       "    </tr>\n",
       "    <tr>\n",
       "      <th>57431</th>\n",
       "      <td>13</td>\n",
       "      <td>636</td>\n",
       "      <td>2002</td>\n",
       "      <td>0</td>\n",
       "      <td>44</td>\n",
       "    </tr>\n",
       "    <tr>\n",
       "      <th>168288</th>\n",
       "      <td>30</td>\n",
       "      <td>513</td>\n",
       "      <td>2005</td>\n",
       "      <td>1</td>\n",
       "      <td>44</td>\n",
       "    </tr>\n",
       "    <tr>\n",
       "      <th>160052</th>\n",
       "      <td>30</td>\n",
       "      <td>264</td>\n",
       "      <td>2007</td>\n",
       "      <td>3</td>\n",
       "      <td>35</td>\n",
       "    </tr>\n",
       "  </tbody>\n",
       "</table>\n",
       "<p>50064 rows × 5 columns</p>\n",
       "</div>"
      ],
      "text/plain": [
       "        State_Name  District_Name  Crop_Year  Season  Crop\n",
       "60910           14             87       2009       3    21\n",
       "87060           16            377       2006       1    28\n",
       "99495           17            407       2003       4    33\n",
       "63026           14            118       2009       2    27\n",
       "96391           17             69       2010       2    32\n",
       "...            ...            ...        ...     ...   ...\n",
       "9870             3             64       2013       2    24\n",
       "126506          25            139       2004       4    17\n",
       "57431           13            636       2002       0    44\n",
       "168288          30            513       2005       1    44\n",
       "160052          30            264       2007       3    35\n",
       "\n",
       "[50064 rows x 5 columns]"
      ]
     },
     "execution_count": 33,
     "metadata": {},
     "output_type": "execute_result"
    }
   ],
   "source": [
    "X_test"
   ]
  },
  {
   "cell_type": "code",
   "execution_count": 34,
   "metadata": {},
   "outputs": [
    {
     "data": {
      "text/plain": [
       "60910      92.356415\n",
       "87060      22.274207\n",
       "99495      48.278944\n",
       "63026      89.658876\n",
       "96391      28.846434\n",
       "             ...    \n",
       "9870       85.640404\n",
       "126506     82.346823\n",
       "57431     112.320563\n",
       "168288    107.511741\n",
       "160052     82.242379\n",
       "Name: Cost_alter, Length: 50064, dtype: float64"
      ]
     },
     "execution_count": 34,
     "metadata": {},
     "output_type": "execute_result"
    }
   ],
   "source": [
    "Y_test"
   ]
  },
  {
   "cell_type": "code",
   "execution_count": 78,
   "metadata": {},
   "outputs": [
    {
     "data": {
      "text/plain": [
       "array([80.31043065])"
      ]
     },
     "execution_count": 78,
     "metadata": {},
     "output_type": "execute_result"
    }
   ],
   "source": [
    "forest.predict([[14,87,2009,3,21]])"
   ]
  },
  {
   "cell_type": "code",
   "execution_count": 79,
   "metadata": {},
   "outputs": [],
   "source": [
    "from joblib import Parallel, delayed\n",
    "import joblib"
   ]
  },
  {
   "cell_type": "code",
   "execution_count": 80,
   "metadata": {},
   "outputs": [
    {
     "data": {
      "text/plain": [
       "['random_forest_price_predict.pkl']"
      ]
     },
     "execution_count": 80,
     "metadata": {},
     "output_type": "execute_result"
    }
   ],
   "source": [
    "joblib.dump(forest, 'random_forest_price_predict.pkl')"
   ]
  },
  {
   "cell_type": "code",
   "execution_count": 26,
   "metadata": {},
   "outputs": [
    {
     "name": "stdout",
     "output_type": "stream",
     "text": [
      "enter state:1\n",
      "enter district:2\n",
      "enter year:2022\n",
      "enter season:3\n",
      "enter crop:4\n",
      "[186.84953838]\n",
      "crop Price Production: [186.84953838]\n"
     ]
    }
   ],
   "source": [
    "state = input('enter state:')\n",
    "district = input('enter district:')\n",
    "year = input('enter year:')\n",
    "season = input('enter season:')\n",
    "crop = input('enter crop:')\n",
    "\n",
    "\n",
    "out_1 = forest.predict([[float(state),\n",
    "       float(district),\n",
    "       float(year),\n",
    "       float(season),\n",
    "       float(crop),]])\n",
    "print(out_1)\n",
    "print('crop Price Production:',out_1)\n"
   ]
  },
  {
   "cell_type": "code",
   "execution_count": 2,
   "metadata": {},
   "outputs": [],
   "source": [
    "acu=[0.9497883692378377,\n",
    " 0.7551515115995868,\n",
    " 0.6558275605139952,\n",
    " 0.8763777068219993]\n",
    "model = ['Random forest',\n",
    " 'Ridge regression',\n",
    " 'Lasso regression',\n",
    " 'decision tree regressor']"
   ]
  },
  {
   "cell_type": "code",
   "execution_count": 3,
   "metadata": {},
   "outputs": [
    {
     "data": {
      "text/plain": [
       "<AxesSubplot:title={'center':'Accuracy Comparison for crop price data'}, xlabel='Accuracy', ylabel='Algorithm'>"
      ]
     },
     "execution_count": 3,
     "metadata": {},
     "output_type": "execute_result"
    },
    {
     "data": {
      "image/png": "[encoded data removed]",
      "text/plain": [
       "<Figure size 1000x500 with 1 Axes>"
      ]
     },
     "metadata": {
      "needs_background": "light"
     },
     "output_type": "display_data"
    }
   ],
   "source": [
    "import matplotlib.pyplot as plt\n",
    "import seaborn as sns\n",
    "plt.figure(figsize=[10,5],dpi = 100)\n",
    "plt.title('Accuracy Comparison for crop price data')\n",
    "plt.xlabel('Accuracy')\n",
    "plt.ylabel('Algorithm')\n",
    "sns.barplot(x = acu,y = model,palette='dark')"
   ]
  },
  {
   "cell_type": "code",
   "execution_count": null,
   "metadata": {},
   "outputs": [],
   "source": []
  }
 ],
 "metadata": {
  "kernelspec": {
   "display_name": "Python 3",
   "language": "python",
   "name": "python3"
  },
  "language_info": {
   "codemirror_mode": {
    "name": "ipython",
    "version": 3
   },
   "file_extension": ".py",
   "mimetype": "text/x-python",
   "name": "python",
   "nbconvert_exporter": "python",
   "pygments_lexer": "ipython3",
   "version": "3.8.8"
  }
 },
 "nbformat": 4,
 "nbformat_minor": 1
}
